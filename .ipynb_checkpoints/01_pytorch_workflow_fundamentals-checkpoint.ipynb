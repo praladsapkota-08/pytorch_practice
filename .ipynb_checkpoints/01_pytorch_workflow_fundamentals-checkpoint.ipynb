{
 "cells": [
  {
   "cell_type": "code",
   "execution_count": 1,
   "id": "16d9c225-a216-41b7-a1b1-86095ec65bde",
   "metadata": {},
   "outputs": [
    {
     "data": {
      "text/plain": [
       "'2.5.1'"
      ]
     },
     "execution_count": 1,
     "metadata": {},
     "output_type": "execute_result"
    }
   ],
   "source": [
    "import torch\n",
    "from torch import nn\n",
    "import matplotlib.pyplot as plt\n",
    "import numpy as np\n",
    "\n",
    "torch.__version__"
   ]
  },
  {
   "cell_type": "code",
   "execution_count": 2,
   "id": "34a2782f-097f-4793-b72c-c579c7ffd936",
   "metadata": {},
   "outputs": [
    {
     "data": {
      "text/plain": [
       "(tensor([[0.0000],\n",
       "         [0.0200],\n",
       "         [0.0400],\n",
       "         [0.0600],\n",
       "         [0.0800],\n",
       "         [0.1000],\n",
       "         [0.1200],\n",
       "         [0.1400],\n",
       "         [0.1600],\n",
       "         [0.1800]]),\n",
       " tensor([[0.3000],\n",
       "         [0.3140],\n",
       "         [0.3280],\n",
       "         [0.3420],\n",
       "         [0.3560],\n",
       "         [0.3700],\n",
       "         [0.3840],\n",
       "         [0.3980],\n",
       "         [0.4120],\n",
       "         [0.4260]]))"
      ]
     },
     "execution_count": 2,
     "metadata": {},
     "output_type": "execute_result"
    }
   ],
   "source": [
    "weight = 0.7\n",
    "bias = 0.3\n",
    "\n",
    "start = 0\n",
    "end = 1\n",
    "step = 0.02\n",
    "X = torch.arange(start, end, step).unsqueeze(dim = 1)\n",
    "y = weight * X + bias\n",
    "\n",
    "\n",
    "X[:10], y[:10]"
   ]
  },
  {
   "cell_type": "code",
   "execution_count": 3,
   "id": "918fcd60-fdd3-4b4c-8237-d6fcf5142229",
   "metadata": {},
   "outputs": [
    {
     "data": {
      "text/plain": [
       "(40, 40, 10, 10)"
      ]
     },
     "execution_count": 3,
     "metadata": {},
     "output_type": "execute_result"
    }
   ],
   "source": [
    "#creating train test split\n",
    "train_split = int(0.8 * len(X))\n",
    "X_train, y_train = X[:train_split], y[:train_split]\n",
    "X_test, y_test = X[train_split:], y[train_split:]\n",
    "\n",
    "len(X_train), len(y_train), len(X_test), len(y_test)"
   ]
  },
  {
   "cell_type": "code",
   "execution_count": 4,
   "id": "05931e9a-c7fb-4e39-b408-80549c7f372d",
   "metadata": {},
   "outputs": [],
   "source": [
    "def plot_predictions(train_data = X_train,\n",
    "                    train_labels = y_train,\n",
    "                    test_data = X_test,\n",
    "                    test_labels = y_test,\n",
    "                    predictions = None):\n",
    "\n",
    "    plt.figure(figsize=(10, 7))\n",
    "    plt.scatter(train_data, train_labels, c = 'b', s = 4, label = 'training data')\n",
    "    plt.scatter(test_data, test_labels, c = 'g', s = 4, label = 'test data')\n",
    "\n",
    "    if predictions is not None:\n",
    "        plt.scatter(test_data, predictions, c = 'r', s = 4, labels = 'predictions')\n",
    "\n",
    "    plt.legend(prop={'size': 14});"
   ]
  },
  {
   "cell_type": "code",
   "execution_count": 5,
   "id": "c1926b39-ddf8-4318-932e-d9f53434b943",
   "metadata": {},
   "outputs": [
    {
     "data": {
      "image/png": "[encoded data removed]",
      "text/plain": [
       "<Figure size 1000x700 with 1 Axes>"
      ]
     },
     "metadata": {},
     "output_type": "display_data"
    }
   ],
   "source": [
    "plot_predictions()"
   ]
  },
  {
   "cell_type": "code",
   "execution_count": 6,
   "id": "61f70a0e-90aa-4425-9be6-df79eefcccb9",
   "metadata": {},
   "outputs": [],
   "source": [
    "class LinearRegressionModel(nn.Module):\n",
    "    def __init__(self):\n",
    "        super().__init__()\n",
    "        self.weights = nn.Parameter(torch.randn(1,\n",
    "                                               dtype = torch.float,\n",
    "                                               requires_grad = True))\n",
    "\n",
    "        self.bias = nn.Parameter(torch.randn(1,\n",
    "                                            dtype = torch.float,\n",
    "                                            requires_grad = True))\n",
    "\n",
    "    def forward(self, x: torch.Tensor) -> torch.Tensor:\n",
    "        return self.weights * x + self.bias"
   ]
  },
  {
   "cell_type": "code",
   "execution_count": 7,
   "id": "ccec3060-8256-4f43-9ab8-56cfacb146a1",
   "metadata": {},
   "outputs": [
    {
     "data": {
      "text/plain": [
       "[Parameter containing:\n",
       " tensor([0.3367], requires_grad=True),\n",
       " Parameter containing:\n",
       " tensor([0.1288], requires_grad=True)]"
      ]
     },
     "execution_count": 7,
     "metadata": {},
     "output_type": "execute_result"
    }
   ],
   "source": [
    "# creating a randome seed\n",
    "torch.manual_seed(42)\n",
    "\n",
    "# creating the instance of the model LinearRegressionModel\n",
    "model_0 = LinearRegressionModel()\n",
    "\n",
    "#checking the parameters\n",
    "list(model_0.parameters())"
   ]
  },
  {
   "cell_type": "code",
   "execution_count": 8,
   "id": "0bd8d25c-a523-4316-b3c1-be0ce9722e30",
   "metadata": {},
   "outputs": [
    {
     "data": {
      "text/plain": [
       "OrderedDict([('weights', tensor([0.3367])), ('bias', tensor([0.1288]))])"
      ]
     },
     "execution_count": 8,
     "metadata": {},
     "output_type": "execute_result"
    }
   ],
   "source": [
    "model_0.state_dict()"
   ]
  },
  {
   "cell_type": "code",
   "execution_count": 9,
   "id": "0c890323-95f1-4da3-9598-b0166428c37a",
   "metadata": {},
   "outputs": [
    {
     "data": {
      "text/plain": [
       "tensor([[0.3982],\n",
       "        [0.4049],\n",
       "        [0.4116],\n",
       "        [0.4184],\n",
       "        [0.4251],\n",
       "        [0.4318],\n",
       "        [0.4386],\n",
       "        [0.4453],\n",
       "        [0.4520],\n",
       "        [0.4588]])"
      ]
     },
     "execution_count": 9,
     "metadata": {},
     "output_type": "execute_result"
    }
   ],
   "source": [
    "with torch.inference_mode():\n",
    "    y_preds = model_0(X_test)\n",
    "\n",
    "y_preds"
   ]
  },
  {
   "cell_type": "code",
   "execution_count": 10,
   "id": "cbd2c4ef-2cbb-4786-9705-fb2dd024e068",
   "metadata": {},
   "outputs": [
    {
     "data": {
      "text/plain": [
       "[Parameter containing:\n",
       " tensor([0.3367], requires_grad=True),\n",
       " Parameter containing:\n",
       " tensor([0.1288], requires_grad=True)]"
      ]
     },
     "execution_count": 10,
     "metadata": {},
     "output_type": "execute_result"
    }
   ],
   "source": [
    "list(model_0.parameters())"
   ]
  },
  {
   "cell_type": "code",
   "execution_count": 11,
   "id": "d2d1efe1-20c9-462c-bdba-837c8f3efc57",
   "metadata": {},
   "outputs": [],
   "source": [
    "# setting up the loss function\n",
    "loss_fn = nn.L1Loss()\n",
    "\n",
    "# setting up the optimizer, using stochastic gradient descent\n",
    "optimizer = torch.optim.SGD(params = model_0.parameters(), # we are optimizing the parameters of our model with SGD\n",
    "                           lr = 0.01) # lr is the learning rate of model, it takes the 0.01 step for finding the best parameters, it is an hyperparameter"
   ]
  },
  {
   "cell_type": "code",
   "execution_count": 13,
   "id": "f9950d63-35f3-4591-9a33-358644ef9fd1",
   "metadata": {},
   "outputs": [],
   "source": [
    "torch.manual_seed(42)\n",
    "\n",
    "# an epoch is one loop through the data\n",
    "epoch = 200\n",
    "\n",
    "# tracking the different values\n",
    "epoch_count = []\n",
    "loss_values = []\n",
    "test_loss_values = []\n",
    "\n",
    "## training the model:\n",
    "for epoch in range(epoch):\n",
    "    model_0.train()\n",
    "\n",
    "    y_pred = model_0(X_train)\n",
    "\n",
    "    loss = loss_fn(y_pred, y_train)\n",
    "\n",
    "    optimizer.zero_grad()\n",
    "\n",
    "    loss.backward()\n",
    "\n",
    "    optimizer.step()\n",
    "\n",
    "    model_0.eval()\n",
    "    with torch.inference_model():\n",
    "        test_pred = model_0(X_test)\n",
    "\n",
    "        test_loss = loss_fn(test_pred, y_test)\n",
    "\n",
    "    if epoch % 10 == 0:\n",
    "        epoch_count.append(epoch)\n",
    "        loss_values.append(loss)\n",
    "        test_loss_values.append(test_loss)\n",
    "        print(f'epoch: {epoch} | loss: {loss} | test loss: {test_loss}')\n",
    "        print(model_0.state_dict())"
   ]
  },
  {
   "cell_type": "code",
   "execution_count": null,
   "id": "46bab943-73e4-49b0-b808-de2118674abe",
   "metadata": {},
   "outputs": [],
   "source": [
    "np.array(torch.tensor(loss_values).numpy()), test_loss_values"
   ]
  },
  {
   "cell_type": "code",
   "execution_count": null,
   "id": "59764ac1-7a0d-4b0f-8c39-935d346bd60d",
   "metadata": {},
   "outputs": [],
   "source": [
    "plt.plot(epoch_count, np.array(torch.tensor(loss_values).numpy()), label = 'Train loss')\n",
    "plt.plot(epoch_count, test_loss_values, label = 'Test loss')\n",
    "plt.title('Training and test loss curves')\n",
    "plt.ylabel('Loss')\n",
    "plt.xlabel('Epochs')\n",
    "plt.legend();"
   ]
  },
  {
   "cell_type": "code",
   "execution_count": null,
   "id": "74abb6d3-3ce9-442e-908e-67cc36fb3e83",
   "metadata": {},
   "outputs": [],
   "source": [
    "with torch.inference_model():\n",
    "    y_preds_new = model_0(X_test)"
   ]
  },
  {
   "cell_type": "code",
   "execution_count": null,
   "id": "52734c9f-0959-41c9-aa40-9f033b523e08",
   "metadata": {},
   "outputs": [],
   "source": [
    "model_0.state_dict()"
   ]
  },
  {
   "cell_type": "code",
   "execution_count": null,
   "id": "32abb6d5-ffd6-4b49-831a-689ff775918f",
   "metadata": {},
   "outputs": [],
   "source": [
    "weight, bias"
   ]
  },
  {
   "cell_type": "code",
   "execution_count": null,
   "id": "878c589e-53e7-4a03-9a83-d95ed6673abd",
   "metadata": {},
   "outputs": [],
   "source": [
    "plot_predicitons(predictions = y_preds);"
   ]
  },
  {
   "cell_type": "code",
   "execution_count": null,
   "id": "6f697718-e42f-4a00-9b8b-5f95c7511070",
   "metadata": {},
   "outputs": [],
   "source": [
    "plot_predictions(predictions = y_preds_new);"
   ]
  },
  {
   "cell_type": "code",
   "execution_count": null,
   "id": "0dbd2885-32ff-4180-8fde-3a0ae6e0bf12",
   "metadata": {},
   "outputs": [],
   "source": [
    "from pathlib import path\n",
    "\n",
    "MODEL_PATH = path(\"models\")\n",
    "MODEL_PATH.mkdir(parents = True, exit_ok = True)\n",
    "\n",
    "MODEL_NAME = '01_pytorch_workflow_model_0.pth'\n",
    "MODEL_SAVE_PATH =MODEL / MODEL_NAME\n",
    "\n",
    "print(f'saving model to: {MODEL_SAVE_PATH}')\n",
    "torch.save(obj = model_0.state_dict(),\n",
    "          f = MODEL_SAVE_PATH)\n"
   ]
  },
  {
   "cell_type": "code",
   "execution_count": null,
   "id": "41ed149d-45c1-4b09-b3d2-fb4c405a2566",
   "metadata": {},
   "outputs": [],
   "source": [
    "!ls -l models"
   ]
  },
  {
   "cell_type": "code",
   "execution_count": null,
   "id": "9fe29de5-b21c-4d7f-bde2-fd11f3b23a80",
   "metadata": {},
   "outputs": [],
   "source": [
    "model_0.state_dict()"
   ]
  },
  {
   "cell_type": "code",
   "execution_count": null,
   "id": "3b074570-662f-4775-ae9f-89da4eb0f002",
   "metadata": {},
   "outputs": [],
   "source": [
    "loaded_model_0 = LinearRegressionModel()\n",
    "\n",
    "loaded_model_0.load_state_dict(torch.load(f = MODEL_SAVE_PATH))"
   ]
  },
  {
   "cell_type": "code",
   "execution_count": null,
   "id": "658e148e-396d-4de9-b420-ad8bc87c58ca",
   "metadata": {},
   "outputs": [],
   "source": [
    "loaded_model_0.state_dict()"
   ]
  },
  {
   "cell_type": "code",
   "execution_count": null,
   "id": "b28d6b12-fc72-4ed7-8439-f682f9066723",
   "metadata": {},
   "outputs": [],
   "source": [
    "loaded_model_0.eval()\n",
    "with torch.inference_model():\n",
    "    loaded_model_preds = loaded_model_0(X_test)\n",
    "\n",
    "loaded_model_preds"
   ]
  },
  {
   "cell_type": "code",
   "execution_count": null,
   "id": "66bb8ec5-4257-4664-8dd3-e769ce856f80",
   "metadata": {},
   "outputs": [],
   "source": [
    "model_0.eval()\n",
    "with torch.inference_model():\n",
    "    y_preds = model_0(X_test)\n",
    "\n",
    "y_preds"
   ]
  },
  {
   "cell_type": "code",
   "execution_count": null,
   "id": "6d765865-cb67-48ba-a821-24df02e341eb",
   "metadata": {},
   "outputs": [],
   "source": [
    "y_preds ==loaded_model_preds"
   ]
  },
  {
   "cell_type": "code",
   "execution_count": null,
   "id": "2cf99a45-d775-48b8-bc3b-c1285ba946ed",
   "metadata": {},
   "outputs": [],
   "source": [
    "device = 'cuda' if torch.cuda.is_avialable() else 'cpu'\n",
    "print(f'using device: {device}')"
   ]
  },
  {
   "cell_type": "code",
   "execution_count": null,
   "id": "16c06b1a-2b04-49f6-b6c2-96a4505856dd",
   "metadata": {},
   "outputs": [],
   "source": [
    "weight = 0.7\n",
    "bias = 0.3 \n",
    "\n",
    "start = 0\n",
    "end = 1\n",
    "step = 0.02\n",
    "\n",
    "X = torch.arange(start, end, step).unsqueeze(dim = 1)\n",
    "y = weight * X + bias\n",
    "X[:10], y[:10]"
   ]
  },
  {
   "cell_type": "code",
   "execution_count": null,
   "id": "26cb6504-abfe-45d7-a752-d8b2108e5b94",
   "metadata": {},
   "outputs": [],
   "source": [
    "train_split = int(0.8 * len(X))\n",
    "X_train, y_train = X[:train_split], y[:train_split]\n",
    "X_test, y_test = X[train_split:], y[train_split]\n",
    "len(X_train), len(y_train), len(X_test), len(y_test)"
   ]
  },
  {
   "cell_type": "code",
   "execution_count": null,
   "id": "8a6e5826-e65d-4677-a614-ffa0980e1385",
   "metadata": {},
   "outputs": [],
   "source": [
    "def plot_predictions(train_data = X_train,\n",
    "                     train_labels = y_train,\n",
    "                     test_data = X_test,\n",
    "                     test_labels = y_test,\n",
    "                     predicions = None):\n",
    "\n",
    "    plt.figure(figsize = (10, 7))\n",
    "    \n",
    "    plt.scatter(train_data, train_labels, c = 'b', s = 4, label = 'Training data')\n",
    "    \n",
    "    plt.scatter(test_data, test_labels, c = 'g', s = 4, label = 'Testing data')\n",
    "    \n",
    "    if predictions is not None:\n",
    "        plt.scatter(test_data, predictions, c = 'r', s = 4, label = 'Predicitions')\n",
    "\n",
    "    plt.legend(prop = {'size': 14})"
   ]
  },
  {
   "cell_type": "code",
   "execution_count": null,
   "id": "86c9008a-692b-42e7-9aa5-c54553fd42ac",
   "metadata": {},
   "outputs": [],
   "source": [
    "plot_predictions(X_train, y_train, X_test, y_test)"
   ]
  },
  {
   "cell_type": "code",
   "execution_count": null,
   "id": "f6fe2503-0bfe-4796-910f-0391823112f0",
   "metadata": {},
   "outputs": [],
   "source": [
    "class LinearRegressionModelV2(nn.Module):\n",
    "    def __init__(self):\n",
    "        super().__init__()\n",
    "        self.linear_layer = nn.Linear(in_features = 1,\n",
    "                                      out_features = 1)\n",
    "\n",
    "    def forward(self, x:torch.Tensor) -> torch.Tensor:\n",
    "        return self.linear_layer(x)\n",
    "\n",
    "torch.manual_seed(42)\n"
   ]
  },
  {
   "cell_type": "code",
   "execution_count": null,
   "id": "8b99b3f7-57ff-4a13-8638-0fad1b177d91",
   "metadata": {},
   "outputs": [],
   "source": [
    "model_1.state_dict()"
   ]
  },
  {
   "cell_type": "code",
   "execution_count": null,
   "id": "23f7a7a3-9582-4d3e-ba33-d58d80e6c7b5",
   "metadata": {},
   "outputs": [],
   "source": [
    "X_train[:5], y_train[:5]"
   ]
  },
  {
   "cell_type": "code",
   "execution_count": null,
   "id": "4bd7a240-cbd2-4ae7-bfb5-6797729d5d2e",
   "metadata": {},
   "outputs": [],
   "source": [
    "next(model_1.parameters()).device"
   ]
  },
  {
   "cell_type": "code",
   "execution_count": null,
   "id": "37801def-ed5d-4103-8daa-3381fa7bbb56",
   "metadata": {},
   "outputs": [],
   "source": [
    "model_1.to(device)\n",
    "next(model_1.parameters().device)"
   ]
  },
  {
   "cell_type": "code",
   "execution_count": null,
   "id": "8f4ed7c7-1765-4034-9c5e-3f80d737b2bb",
   "metadata": {},
   "outputs": [],
   "source": [
    "model_1.state_dict()"
   ]
  },
  {
   "cell_type": "code",
   "execution_count": null,
   "id": "49c0421c-5e60-4ac6-9304-a4d0b8057739",
   "metadata": {},
   "outputs": [],
   "source": [
    "weight, bias"
   ]
  },
  {
   "cell_type": "code",
   "execution_count": null,
   "id": "41e231d5-d56e-4038-8faa-3136da91a54c",
   "metadata": {},
   "outputs": [],
   "source": [
    "model_1.eval()\n",
    "\n",
    "with torch.inference_model():\n",
    "    y_preds = model_1(X_test)\n",
    "\n",
    "y_preds"
   ]
  },
  {
   "cell_type": "code",
   "execution_count": null,
   "id": "8c6927f4-f298-4ab5-a425-db0976440790",
   "metadata": {},
   "outputs": [],
   "source": [
    "plot_predictions(predictions = y_preds.cpu())"
   ]
  },
  {
   "cell_type": "code",
   "execution_count": null,
   "id": "5966dfca-eca8-44a2-a783-caf24f89cab1",
   "metadata": {},
   "outputs": [],
   "source": [
    "from pathlib import Path\n",
    "\n",
    "MODEL_PATH = Path('models')\n",
    "MODEL_SAVE_PATH = MODEL_PATH / MODEL_NAME\n",
    "\n",
    "print(f'saving model to : {MODEL_SAVE_PATH}')\n",
    "torch.save(obj = model_1.state_dict(),\n",
    "          f = MODEL_SAVE_PATH)"
   ]
  },
  {
   "cell_type": "code",
   "execution_count": null,
   "id": "af1733ec-33c8-4707-b76c-d5184c8a3e0f",
   "metadata": {},
   "outputs": [],
   "source": [
    "model_1.state_dict()"
   ]
  },
  {
   "cell_type": "code",
   "execution_count": null,
   "id": "2bcad58c-c3a8-45f4-9309-870554d00f8d",
   "metadata": {},
   "outputs": [],
   "source": [
    "loaded_model_1 = LinearRegressionModelV2()\n",
    "\n",
    "loaded_model_1.load_state_dict(torch.load(MODEL_SAVE_PATH))\n",
    "\n",
    "loaded_model_1.to(device)"
   ]
  },
  {
   "cell_type": "code",
   "execution_count": null,
   "id": "631a76bf-f13e-4e58-a2aa-8a4f8c76b878",
   "metadata": {},
   "outputs": [],
   "source": [
    "next(loaded_model1.parameters()).device"
   ]
  },
  {
   "cell_type": "code",
   "execution_count": null,
   "id": "40bef0fc-9590-4e9d-8de3-05901ed14118",
   "metadata": {},
   "outputs": [],
   "source": [
    "loaded_model_1.state_dict()"
   ]
  },
  {
   "cell_type": "code",
   "execution_count": null,
   "id": "7742b4a0-426e-45d8-a1dc-0d6c9d2176c1",
   "metadata": {},
   "outputs": [],
   "source": [
    "loaded_model_1.eval()\n",
    "with torch.inference_mode():\n",
    "    loaded_model_1_preds = loaded_model_1(X_test)\n",
    "\n",
    "y_preds == loaded_model_1_preds"
   ]
  },
  {
   "cell_type": "code",
   "execution_count": null,
   "id": "8fe65708-ff49-471a-bfad-2e0c61eafb3a",
   "metadata": {},
   "outputs": [],
   "source": []
  },
  {
   "cell_type": "code",
   "execution_count": null,
   "id": "ec853df8-2b33-4f7f-85d3-098563360a13",
   "metadata": {},
   "outputs": [],
   "source": []
  },
  {
   "cell_type": "code",
   "execution_count": null,
   "id": "54fef961-3aa1-4af7-926e-b2a325d78135",
   "metadata": {},
   "outputs": [],
   "source": []
  },
  {
   "cell_type": "code",
   "execution_count": null,
   "id": "d8194197-4b4d-45c4-856d-cd6c8543bb30",
   "metadata": {},
   "outputs": [],
   "source": []
  },
  {
   "cell_type": "code",
   "execution_count": null,
   "id": "f12f755e-f546-4cec-9281-a4b047216ba1",
   "metadata": {},
   "outputs": [],
   "source": []
  },
  {
   "cell_type": "code",
   "execution_count": null,
   "id": "95ab8d94-7900-4257-8e70-1a3a681f9e5b",
   "metadata": {},
   "outputs": [],
   "source": []
  },
  {
   "cell_type": "code",
   "execution_count": null,
   "id": "2ccb729c-6953-4cef-bf40-abdc35bdd203",
   "metadata": {},
   "outputs": [],
   "source": []
  }
 ],
 "metadata": {
  "kernelspec": {
   "display_name": "Python 3 (ipykernel)",
   "language": "python",
   "name": "python3"
  },
  "language_info": {
   "codemirror_mode": {
    "name": "ipython",
    "version": 3
   },
   "file_extension": ".py",
   "mimetype": "text/x-python",
   "name": "python",
   "nbconvert_exporter": "python",
   "pygments_lexer": "ipython3",
   "version": "3.11.13"
  }
 },
 "nbformat": 4,
 "nbformat_minor": 5
}
