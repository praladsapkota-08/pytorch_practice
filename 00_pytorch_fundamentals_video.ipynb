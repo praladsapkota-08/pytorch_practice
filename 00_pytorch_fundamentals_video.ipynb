{
 "cells": [
  {
   "cell_type": "code",
   "execution_count": 1,
   "metadata": {
    "colab": {
     "base_uri": "https://localhost:8080/"
    },
    "id": "lrJt0qJGu625",
    "outputId": "36019653-77d8-4fdf-f760-94cfe40eb184"
   },
   "outputs": [
    {
     "name": "stdout",
     "output_type": "stream",
     "text": [
      "hello world\n"
     ]
    }
   ],
   "source": [
    "print('hello world')"
   ]
  },
  {
   "cell_type": "code",
   "execution_count": 2,
   "metadata": {
    "colab": {
     "base_uri": "https://localhost:8080/"
    },
    "id": "S5j8WvKrrVVd",
    "outputId": "0fa9ceca-2dff-420c-8e20-ec891722723b"
   },
   "outputs": [
    {
     "name": "stdout",
     "output_type": "stream",
     "text": [
      "Sun Jul 27 09:58:17 2025       \n",
      "+-----------------------------------------------------------------------------+\n",
      "| NVIDIA-SMI 497.29       Driver Version: 497.29       CUDA Version: 11.5     |\n",
      "|-------------------------------+----------------------+----------------------+\n",
      "| GPU  Name            TCC/WDDM | Bus-Id        Disp.A | Volatile Uncorr. ECC |\n",
      "| Fan  Temp  Perf  Pwr:Usage/Cap|         Memory-Usage | GPU-Util  Compute M. |\n",
      "|                               |                      |               MIG M. |\n",
      "|===============================+======================+======================|\n",
      "|   0  NVIDIA GeForce ... WDDM  | 00000000:01:00.0  On |                  N/A |\n",
      "| N/A   41C    P8     5W /  N/A |    560MiB /  4096MiB |     22%      Default |\n",
      "|                               |                      |                  N/A |\n",
      "+-------------------------------+----------------------+----------------------+\n",
      "                                                                               \n",
      "+-----------------------------------------------------------------------------+\n",
      "| Processes:                                                                  |\n",
      "|  GPU   GI   CI        PID   Type   Process name                  GPU Memory |\n",
      "|        ID   ID                                                   Usage      |\n",
      "|=============================================================================|\n",
      "|    0   N/A  N/A      1132    C+G   Insufficient Permissions        N/A      |\n",
      "|    0   N/A  N/A      5036    C+G   ...batNotificationClient.exe    N/A      |\n",
      "|    0   N/A  N/A      6308    C+G   ...ser\\Application\\brave.exe    N/A      |\n",
      "|    0   N/A  N/A     10344    C+G   ...2txyewy\\TextInputHost.exe    N/A      |\n",
      "|    0   N/A  N/A     12440    C+G   ...ws\\System32\\ShellHost.exe    N/A      |\n",
      "|    0   N/A  N/A     13372    C+G   ...8bbwe\\WindowsTerminal.exe    N/A      |\n",
      "|    0   N/A  N/A     13896    C+G   C:\\Windows\\explorer.exe         N/A      |\n",
      "|    0   N/A  N/A     14068    C+G   ...Client\\v1.6.0\\rsAppUI.exe    N/A      |\n",
      "|    0   N/A  N/A     15096    C+G   ...ewy\\CrossDeviceResume.exe    N/A      |\n",
      "|    0   N/A  N/A     15904    C+G   ...ser\\Application\\brave.exe    N/A      |\n",
      "|    0   N/A  N/A     16080    C+G   ...n1h2txyewy\\SearchHost.exe    N/A      |\n",
      "|    0   N/A  N/A     16092    C+G   ...artMenuExperienceHost.exe    N/A      |\n",
      "|    0   N/A  N/A     17712    C+G   ...351.95\\msedgewebview2.exe    N/A      |\n",
      "|    0   N/A  N/A     18188    C+G   ...v1g1gvanyjgm\\WhatsApp.exe    N/A      |\n",
      "+-----------------------------------------------------------------------------+\n"
     ]
    }
   ],
   "source": [
    "!nvidia-smi"
   ]
  },
  {
   "cell_type": "code",
   "execution_count": 3,
   "metadata": {
    "colab": {
     "base_uri": "https://localhost:8080/"
    },
    "id": "EhvHTzpUra6M",
    "outputId": "b27cc58a-83b5-4ca1-b4da-c47edf9107a9"
   },
   "outputs": [
    {
     "name": "stdout",
     "output_type": "stream",
     "text": [
      "2.5.1\n"
     ]
    }
   ],
   "source": [
    "import torch\n",
    "import pandas as pd\n",
    "import numpy as np\n",
    "import matplotlib.pyplot as plt\n",
    "\n",
    "print(torch.__version__)"
   ]
  },
  {
   "cell_type": "markdown",
   "metadata": {
    "id": "NF8FpGkOs7Eb"
   },
   "source": [
    "Introduction to Tensors\n",
    "\n",
    "creating tensors"
   ]
  },
  {
   "cell_type": "code",
   "execution_count": 4,
   "metadata": {
    "colab": {
     "base_uri": "https://localhost:8080/"
    },
    "id": "w8ARD7a0r6y8",
    "outputId": "7cd2bb2a-67bb-4550-aaee-74520301420e"
   },
   "outputs": [
    {
     "data": {
      "text/plain": [
       "tensor(7)"
      ]
     },
     "execution_count": 4,
     "metadata": {},
     "output_type": "execute_result"
    }
   ],
   "source": [
    "scalar = torch.tensor(7)\n",
    "scalar"
   ]
  },
  {
   "cell_type": "code",
   "execution_count": 5,
   "metadata": {
    "colab": {
     "base_uri": "https://localhost:8080/"
    },
    "id": "0MFPCXwptRIR",
    "outputId": "b99c165b-7dbb-4b2a-e301-4d98359ae717"
   },
   "outputs": [
    {
     "data": {
      "text/plain": [
       "0"
      ]
     },
     "execution_count": 5,
     "metadata": {},
     "output_type": "execute_result"
    }
   ],
   "source": [
    "scalar.ndim"
   ]
  },
  {
   "cell_type": "code",
   "execution_count": 6,
   "metadata": {
    "colab": {
     "base_uri": "https://localhost:8080/"
    },
    "id": "Mp5oIcJJt2T4",
    "outputId": "8383f15d-5e95-4b0e-e9c2-5eca8d251f91"
   },
   "outputs": [
    {
     "data": {
      "text/plain": [
       "7"
      ]
     },
     "execution_count": 6,
     "metadata": {},
     "output_type": "execute_result"
    }
   ],
   "source": [
    "scalar.item()"
   ]
  },
  {
   "cell_type": "code",
   "execution_count": 7,
   "metadata": {
    "colab": {
     "base_uri": "https://localhost:8080/"
    },
    "id": "6ooZQOOOt6bI",
    "outputId": "cbdaf8cf-01b8-4b1b-ce79-9bc95bae3e80"
   },
   "outputs": [
    {
     "data": {
      "text/plain": [
       "tensor([7, 7])"
      ]
     },
     "execution_count": 7,
     "metadata": {},
     "output_type": "execute_result"
    }
   ],
   "source": [
    "vector = torch.tensor([7,7])\n",
    "vector"
   ]
  },
  {
   "cell_type": "code",
   "execution_count": 8,
   "metadata": {
    "colab": {
     "base_uri": "https://localhost:8080/"
    },
    "id": "z9vaGXn_t__w",
    "outputId": "58525a98-18f2-4bf4-ae58-4de78e1cd9ec"
   },
   "outputs": [
    {
     "data": {
      "text/plain": [
       "1"
      ]
     },
     "execution_count": 8,
     "metadata": {},
     "output_type": "execute_result"
    }
   ],
   "source": [
    "vector.ndim"
   ]
  },
  {
   "cell_type": "code",
   "execution_count": 9,
   "metadata": {
    "colab": {
     "base_uri": "https://localhost:8080/"
    },
    "id": "pamrm_pTuML-",
    "outputId": "6af536d9-69ca-494d-af9c-4b540729c380"
   },
   "outputs": [
    {
     "data": {
      "text/plain": [
       "torch.Size([2])"
      ]
     },
     "execution_count": 9,
     "metadata": {},
     "output_type": "execute_result"
    }
   ],
   "source": [
    "vector.shape"
   ]
  },
  {
   "cell_type": "code",
   "execution_count": 10,
   "metadata": {
    "colab": {
     "base_uri": "https://localhost:8080/"
    },
    "id": "FnxPN0dOuQMf",
    "outputId": "793ebde5-7796-440e-fb76-ef621ed6956b"
   },
   "outputs": [
    {
     "data": {
      "text/plain": [
       "tensor([[ 7,  8],\n",
       "        [ 9, 10]])"
      ]
     },
     "execution_count": 10,
     "metadata": {},
     "output_type": "execute_result"
    }
   ],
   "source": [
    "MATRIX = torch.tensor([[7,8],\n",
    "                       [9,10]])\n",
    "\n",
    "MATRIX"
   ]
  },
  {
   "cell_type": "code",
   "execution_count": 11,
   "metadata": {
    "colab": {
     "base_uri": "https://localhost:8080/"
    },
    "id": "mYOaKDFjunZ-",
    "outputId": "e452ff49-06db-4052-9406-98939a1b4793"
   },
   "outputs": [
    {
     "data": {
      "text/plain": [
       "2"
      ]
     },
     "execution_count": 11,
     "metadata": {},
     "output_type": "execute_result"
    }
   ],
   "source": [
    "MATRIX.ndim"
   ]
  },
  {
   "cell_type": "code",
   "execution_count": 12,
   "metadata": {
    "colab": {
     "base_uri": "https://localhost:8080/"
    },
    "id": "sZniXlNLux52",
    "outputId": "5df62f31-38a2-4e54-f59e-5d8e42209cf8"
   },
   "outputs": [
    {
     "data": {
      "text/plain": [
       "tensor([ 9, 10])"
      ]
     },
     "execution_count": 12,
     "metadata": {},
     "output_type": "execute_result"
    }
   ],
   "source": [
    "MATRIX[1]"
   ]
  },
  {
   "cell_type": "code",
   "execution_count": 13,
   "metadata": {
    "colab": {
     "base_uri": "https://localhost:8080/"
    },
    "id": "QKpv4nuhu3N9",
    "outputId": "248eb999-d57d-4adc-b9c3-eabcda310faf"
   },
   "outputs": [
    {
     "data": {
      "text/plain": [
       "torch.Size([2, 2])"
      ]
     },
     "execution_count": 13,
     "metadata": {},
     "output_type": "execute_result"
    }
   ],
   "source": [
    "MATRIX.shape"
   ]
  },
  {
   "cell_type": "code",
   "execution_count": 14,
   "metadata": {
    "colab": {
     "base_uri": "https://localhost:8080/"
    },
    "id": "uO-WYJegu98u",
    "outputId": "59c306d8-571c-4e72-a76e-75a4827c8ce9"
   },
   "outputs": [
    {
     "data": {
      "text/plain": [
       "tensor([[[1, 2, 3],\n",
       "         [3, 6, 9],\n",
       "         [2, 4, 5]]])"
      ]
     },
     "execution_count": 14,
     "metadata": {},
     "output_type": "execute_result"
    }
   ],
   "source": [
    "TENSOR = torch.tensor([[[1,2,3],\n",
    "                        [3,6,9],\n",
    "                        [2,4,5]]])\n",
    "TENSOR"
   ]
  },
  {
   "cell_type": "code",
   "execution_count": 15,
   "metadata": {
    "colab": {
     "base_uri": "https://localhost:8080/"
    },
    "id": "Au6A0e-JvTcG",
    "outputId": "99dd5191-7b89-438e-906f-9cba31a211d4"
   },
   "outputs": [
    {
     "data": {
      "text/plain": [
       "3"
      ]
     },
     "execution_count": 15,
     "metadata": {},
     "output_type": "execute_result"
    }
   ],
   "source": [
    "TENSOR.ndim"
   ]
  },
  {
   "cell_type": "code",
   "execution_count": 16,
   "metadata": {
    "colab": {
     "base_uri": "https://localhost:8080/"
    },
    "id": "cfzIYNggvczE",
    "outputId": "a42bb7b0-ab03-4a88-94d9-b610d59a27c1"
   },
   "outputs": [
    {
     "data": {
      "text/plain": [
       "tensor([[0.0241, 0.0929, 0.2237, 0.1864],\n",
       "        [0.1003, 0.0551, 0.4947, 0.6039],\n",
       "        [0.8656, 0.2729, 0.4144, 0.2391]])"
      ]
     },
     "execution_count": 16,
     "metadata": {},
     "output_type": "execute_result"
    }
   ],
   "source": [
    "random_tensor = torch.rand(3,4)\n",
    "random_tensor"
   ]
  },
  {
   "cell_type": "code",
   "execution_count": 17,
   "metadata": {
    "colab": {
     "base_uri": "https://localhost:8080/"
    },
    "id": "YZ_w5bPCHXFC",
    "outputId": "b6c947e6-4325-44d5-81bc-c489525e4c03"
   },
   "outputs": [
    {
     "data": {
      "text/plain": [
       "2"
      ]
     },
     "execution_count": 17,
     "metadata": {},
     "output_type": "execute_result"
    }
   ],
   "source": [
    "random_tensor.ndim"
   ]
  },
  {
   "cell_type": "code",
   "execution_count": 18,
   "metadata": {
    "colab": {
     "base_uri": "https://localhost:8080/"
    },
    "id": "URSJ3kBRH2un",
    "outputId": "89c00854-c83a-4bb5-a2ce-ad3564edf997"
   },
   "outputs": [
    {
     "data": {
      "text/plain": [
       "(torch.Size([224, 224, 3]), 3)"
      ]
     },
     "execution_count": 18,
     "metadata": {},
     "output_type": "execute_result"
    }
   ],
   "source": [
    "random_image_size_tensor = torch.rand(size=(224,224,3))\n",
    "random_image_size_tensor.shape, random_image_size_tensor.ndim"
   ]
  },
  {
   "cell_type": "code",
   "execution_count": 19,
   "metadata": {
    "colab": {
     "base_uri": "https://localhost:8080/"
    },
    "id": "gQa3mdMoH2sG",
    "outputId": "0dd36b9d-11db-436d-c6de-4749a9ad7bf7"
   },
   "outputs": [
    {
     "data": {
      "text/plain": [
       "tensor([[0., 0., 0., 0.],\n",
       "        [0., 0., 0., 0.],\n",
       "        [0., 0., 0., 0.]])"
      ]
     },
     "execution_count": 19,
     "metadata": {},
     "output_type": "execute_result"
    }
   ],
   "source": [
    "zeros = torch.zeros(size = (3,4))\n",
    "zeros"
   ]
  },
  {
   "cell_type": "code",
   "execution_count": 20,
   "metadata": {
    "colab": {
     "base_uri": "https://localhost:8080/"
    },
    "id": "tE11gjYwH2ot",
    "outputId": "e7ec3efb-6256-4880-eff0-309db7e36974"
   },
   "outputs": [
    {
     "data": {
      "text/plain": [
       "tensor([[0., 0., 0., 0.],\n",
       "        [0., 0., 0., 0.],\n",
       "        [0., 0., 0., 0.]])"
      ]
     },
     "execution_count": 20,
     "metadata": {},
     "output_type": "execute_result"
    }
   ],
   "source": [
    "zeros * random_tensor"
   ]
  },
  {
   "cell_type": "code",
   "execution_count": 21,
   "metadata": {
    "colab": {
     "base_uri": "https://localhost:8080/"
    },
    "id": "wTxM0IzlH2jV",
    "outputId": "744177f6-8005-432c-f2c0-91229152b139"
   },
   "outputs": [
    {
     "data": {
      "text/plain": [
       "tensor([[1., 1., 1., 1.],\n",
       "        [1., 1., 1., 1.],\n",
       "        [1., 1., 1., 1.]])"
      ]
     },
     "execution_count": 21,
     "metadata": {},
     "output_type": "execute_result"
    }
   ],
   "source": [
    "ones = torch.ones(size=(3,4))\n",
    "ones"
   ]
  },
  {
   "cell_type": "code",
   "execution_count": 22,
   "metadata": {
    "id": "Pi1gRN5WH2g1"
   },
   "outputs": [
    {
     "data": {
      "text/plain": [
       "tensor([0, 1, 2, 3, 4, 5, 6, 7, 8, 9])"
      ]
     },
     "execution_count": 22,
     "metadata": {},
     "output_type": "execute_result"
    }
   ],
   "source": [
    "torch.arange(0,10)"
   ]
  },
  {
   "cell_type": "code",
   "execution_count": 23,
   "metadata": {
    "id": "czOnPBoWH2eV"
   },
   "outputs": [],
   "source": [
    "one_to_ten = torch.arange(start = 1, end = 11, step = 1)"
   ]
  },
  {
   "cell_type": "code",
   "execution_count": 24,
   "metadata": {},
   "outputs": [
    {
     "data": {
      "text/plain": [
       "tensor([0, 0, 0, 0, 0, 0, 0, 0, 0, 0])"
      ]
     },
     "execution_count": 24,
     "metadata": {},
     "output_type": "execute_result"
    }
   ],
   "source": [
    "# Creating tensor like zeros\n",
    "ten_zeros = torch.zeros_like(input = one_to_ten)\n",
    "ten_zeros"
   ]
  },
  {
   "cell_type": "code",
   "execution_count": 25,
   "metadata": {
    "id": "wPeyXex8H2cF"
   },
   "outputs": [
    {
     "data": {
      "text/plain": [
       "tensor([3., 6., 9.])"
      ]
     },
     "execution_count": 25,
     "metadata": {},
     "output_type": "execute_result"
    }
   ],
   "source": [
    "#float 32 tensor\n",
    "float_32_tensor = torch.tensor([3.0,6.0,9.0] ,\n",
    "                               dtype = None,\n",
    "                               device = None,\n",
    "                               requires_grad = False)\n",
    "float_32_tensor"
   ]
  },
  {
   "cell_type": "code",
   "execution_count": 26,
   "metadata": {
    "id": "2AbRcq51H2Zt"
   },
   "outputs": [
    {
     "data": {
      "text/plain": [
       "torch.float32"
      ]
     },
     "execution_count": 26,
     "metadata": {},
     "output_type": "execute_result"
    }
   ],
   "source": [
    "float_32_tensor.dtype"
   ]
  },
  {
   "cell_type": "code",
   "execution_count": 27,
   "metadata": {
    "id": "NW5jU8k3H2XV"
   },
   "outputs": [
    {
     "data": {
      "text/plain": [
       "tensor([3., 6., 9.], dtype=torch.float16)"
      ]
     },
     "execution_count": 27,
     "metadata": {},
     "output_type": "execute_result"
    }
   ],
   "source": [
    "float_16_tensor = float_32_tensor.type(torch.float16)\n",
    "float_16_tensor"
   ]
  },
  {
   "cell_type": "code",
   "execution_count": 28,
   "metadata": {
    "id": "L2DhWPGvH2U1"
   },
   "outputs": [
    {
     "data": {
      "text/plain": [
       "torch.float16"
      ]
     },
     "execution_count": 28,
     "metadata": {},
     "output_type": "execute_result"
    }
   ],
   "source": [
    "float_16_tensor = torch.tensor([3.0, 6.0, 9.0],\n",
    "                              dtype = torch.float16)\n",
    "float_16_tensor.dtype"
   ]
  },
  {
   "cell_type": "code",
   "execution_count": 29,
   "metadata": {
    "id": "CLhUJELjH2SF"
   },
   "outputs": [
    {
     "name": "stdout",
     "output_type": "stream",
     "text": [
      "tensor([[0.3499, 0.4647, 0.1559, 0.2137],\n",
      "        [0.4190, 0.1109, 0.2911, 0.2000],\n",
      "        [0.9172, 0.7998, 0.3747, 0.1637]])\n",
      "shape of tensor: torch.Size([3, 4])\n",
      "datatype of tensor: torch.float32\n",
      "device tensor is stored in : cpu\n"
     ]
    }
   ],
   "source": [
    "some_tensor = torch.rand(3,4)\n",
    "print(some_tensor)\n",
    "print(f'shape of tensor: {some_tensor.shape}')\n",
    "print(f'datatype of tensor: {some_tensor.dtype}')\n",
    "print(f'device tensor is stored in : {some_tensor.device}')"
   ]
  },
  {
   "cell_type": "code",
   "execution_count": 30,
   "metadata": {
    "id": "QlYsyzauH2O_"
   },
   "outputs": [],
   "source": [
    "# When you run into issues in PyTorch, it's very often one to do with one of the three attributes above. So when the error messages show up, sing yourself a little song called \"what, what, where "
   ]
  },
  {
   "cell_type": "code",
   "execution_count": 31,
   "metadata": {
    "id": "xViPI_neHd7I"
   },
   "outputs": [
    {
     "data": {
      "text/plain": [
       "tensor([11, 12, 13])"
      ]
     },
     "execution_count": 31,
     "metadata": {},
     "output_type": "execute_result"
    }
   ],
   "source": [
    "tensor = torch.tensor([1,2,3])\n",
    "tensor + 10"
   ]
  },
  {
   "cell_type": "code",
   "execution_count": 32,
   "metadata": {},
   "outputs": [
    {
     "data": {
      "text/plain": [
       "tensor([10, 20, 30])"
      ]
     },
     "execution_count": 32,
     "metadata": {},
     "output_type": "execute_result"
    }
   ],
   "source": [
    "tensor * 10"
   ]
  },
  {
   "cell_type": "code",
   "execution_count": 33,
   "metadata": {},
   "outputs": [
    {
     "data": {
      "text/plain": [
       "tensor([1, 2, 3])"
      ]
     },
     "execution_count": 33,
     "metadata": {},
     "output_type": "execute_result"
    }
   ],
   "source": [
    "# tensor dont change unless reassigned\n",
    "tensor"
   ]
  },
  {
   "cell_type": "code",
   "execution_count": 34,
   "metadata": {},
   "outputs": [
    {
     "data": {
      "text/plain": [
       "tensor([-9, -8, -7])"
      ]
     },
     "execution_count": 34,
     "metadata": {},
     "output_type": "execute_result"
    }
   ],
   "source": [
    "tensor = tensor - 10\n",
    "tensor"
   ]
  },
  {
   "cell_type": "code",
   "execution_count": 35,
   "metadata": {},
   "outputs": [
    {
     "data": {
      "text/plain": [
       "tensor([1, 2, 3])"
      ]
     },
     "execution_count": 35,
     "metadata": {},
     "output_type": "execute_result"
    }
   ],
   "source": [
    "tensor = tensor + 10\n",
    "tensor"
   ]
  },
  {
   "cell_type": "code",
   "execution_count": 36,
   "metadata": {},
   "outputs": [
    {
     "data": {
      "text/plain": [
       "tensor([10, 20, 30])"
      ]
     },
     "execution_count": 36,
     "metadata": {},
     "output_type": "execute_result"
    }
   ],
   "source": [
    "# can also use torch multiplication function for multiplication\n",
    "torch.multiply(tensor, 10)"
   ]
  },
  {
   "cell_type": "code",
   "execution_count": 37,
   "metadata": {},
   "outputs": [
    {
     "data": {
      "text/plain": [
       "tensor([1, 2, 3])"
      ]
     },
     "execution_count": 37,
     "metadata": {},
     "output_type": "execute_result"
    }
   ],
   "source": [
    "# original tensor doesnot changes even if we use multiply function\n",
    "tensor"
   ]
  },
  {
   "cell_type": "code",
   "execution_count": 38,
   "metadata": {},
   "outputs": [
    {
     "name": "stdout",
     "output_type": "stream",
     "text": [
      "tensor([1, 2, 3]) * tensor([1, 2, 3])\n",
      "Equals: tensor([1, 4, 9])\n"
     ]
    }
   ],
   "source": [
    "# Element-wise multiplication (each element multiplies its equivalent, index 0->0, 1->1, 2->2)\n",
    "print(tensor, \"*\", tensor)\n",
    "print(\"Equals:\", tensor * tensor)"
   ]
  },
  {
   "cell_type": "code",
   "execution_count": 39,
   "metadata": {},
   "outputs": [
    {
     "name": "stdout",
     "output_type": "stream",
     "text": [
      "tensor([1, 2, 3]) * tensor([7])\n",
      "tensor * tensor_1 = tensor([ 7, 14, 21])\n"
     ]
    }
   ],
   "source": [
    "# broadcasting\n",
    "tensor_1 = torch.tensor([7])\n",
    "print(tensor , '*', tensor_1)\n",
    "print('tensor * tensor_1 =', tensor * tensor_1)\n"
   ]
  },
  {
   "cell_type": "code",
   "execution_count": 40,
   "metadata": {},
   "outputs": [
    {
     "data": {
      "text/plain": [
       "torch.Size([3])"
      ]
     },
     "execution_count": 40,
     "metadata": {},
     "output_type": "execute_result"
    }
   ],
   "source": [
    "tensor = torch.tensor([1,2,3])\n",
    "tensor.shape"
   ]
  },
  {
   "cell_type": "code",
   "execution_count": 41,
   "metadata": {},
   "outputs": [
    {
     "data": {
      "text/plain": [
       "tensor([1, 4, 9])"
      ]
     },
     "execution_count": 41,
     "metadata": {},
     "output_type": "execute_result"
    }
   ],
   "source": [
    "# element wise matrix multiplication\n",
    "tensor * tensor"
   ]
  },
  {
   "cell_type": "code",
   "execution_count": 42,
   "metadata": {},
   "outputs": [
    {
     "data": {
      "text/plain": [
       "tensor(14)"
      ]
     },
     "execution_count": 42,
     "metadata": {},
     "output_type": "execute_result"
    }
   ],
   "source": [
    "# matrix multiplication with matmul function\n",
    "torch.matmul(tensor, tensor)"
   ]
  },
  {
   "cell_type": "code",
   "execution_count": 43,
   "metadata": {},
   "outputs": [
    {
     "data": {
      "text/plain": [
       "tensor(14)"
      ]
     },
     "execution_count": 43,
     "metadata": {},
     "output_type": "execute_result"
    }
   ],
   "source": [
    "# matrix multipication with @\n",
    "tensor @ tensor"
   ]
  },
  {
   "cell_type": "code",
   "execution_count": 44,
   "metadata": {},
   "outputs": [
    {
     "name": "stdout",
     "output_type": "stream",
     "text": [
      "CPU times: total: 0 ns\n",
      "Wall time: 1.13 ms\n"
     ]
    },
    {
     "data": {
      "text/plain": [
       "tensor(14)"
      ]
     },
     "execution_count": 44,
     "metadata": {},
     "output_type": "execute_result"
    }
   ],
   "source": [
    "%%time\n",
    "# Matrix multiplication by hand \n",
    "# (avoid doing operations with for loops at all cost, they are computationally expensive)\n",
    "value = 0\n",
    "for i in range(len(tensor)):\n",
    "  value += tensor[i] * tensor[i]\n",
    "value"
   ]
  },
  {
   "cell_type": "code",
   "execution_count": 45,
   "metadata": {},
   "outputs": [
    {
     "name": "stdout",
     "output_type": "stream",
     "text": [
      "CPU times: total: 0 ns\n",
      "Wall time: 392 μs\n"
     ]
    },
    {
     "data": {
      "text/plain": [
       "tensor(14)"
      ]
     },
     "execution_count": 45,
     "metadata": {},
     "output_type": "execute_result"
    }
   ],
   "source": [
    "%%time\n",
    "torch.matmul(tensor, tensor)"
   ]
  },
  {
   "cell_type": "code",
   "execution_count": 46,
   "metadata": {},
   "outputs": [],
   "source": [
    "tensor_A = torch.tensor([[1,2],\n",
    "                        [3,4],\n",
    "                        [5,6]], dtype = torch.float32)\n",
    "\n",
    "tensor_B = torch.tensor([[7,8],\n",
    "                        [9,10],\n",
    "                        [11,12]], dtype = torch.float32)"
   ]
  },
  {
   "cell_type": "code",
   "execution_count": 47,
   "metadata": {},
   "outputs": [
    {
     "name": "stdout",
     "output_type": "stream",
     "text": [
      "tensor([[1., 2.],\n",
      "        [3., 4.],\n",
      "        [5., 6.]])\n",
      "tensor([[ 7.,  8.],\n",
      "        [ 9., 10.],\n",
      "        [11., 12.]])\n"
     ]
    }
   ],
   "source": [
    "print(tensor_A)\n",
    "print(tensor_B)"
   ]
  },
  {
   "cell_type": "code",
   "execution_count": 48,
   "metadata": {},
   "outputs": [
    {
     "name": "stdout",
     "output_type": "stream",
     "text": [
      "tensor([[1., 2.],\n",
      "        [3., 4.],\n",
      "        [5., 6.]])\n",
      "tensor([[ 7.,  9., 11.],\n",
      "        [ 8., 10., 12.]])\n"
     ]
    }
   ],
   "source": [
    "print(tensor_A)\n",
    "print(tensor_B.T)"
   ]
  },
  {
   "cell_type": "code",
   "execution_count": 49,
   "metadata": {},
   "outputs": [
    {
     "name": "stdout",
     "output_type": "stream",
     "text": [
      "tensor([[ 23.,  29.,  35.],\n",
      "        [ 53.,  67.,  81.],\n",
      "        [ 83., 105., 127.]])\n"
     ]
    }
   ],
   "source": [
    "output = torch.matmul(tensor_A, tensor_B.T)\n",
    "print(output)"
   ]
  },
  {
   "cell_type": "code",
   "execution_count": 50,
   "metadata": {},
   "outputs": [
    {
     "data": {
      "text/plain": [
       "tensor([[ 23.,  29.,  35.],\n",
       "        [ 53.,  67.,  81.],\n",
       "        [ 83., 105., 127.]])"
      ]
     },
     "execution_count": 50,
     "metadata": {},
     "output_type": "execute_result"
    }
   ],
   "source": [
    "# torch.mm is the short form of matmul\n",
    "torch.mm(tensor_A, tensor_B.T)"
   ]
  },
  {
   "cell_type": "code",
   "execution_count": 51,
   "metadata": {},
   "outputs": [
    {
     "name": "stdout",
     "output_type": "stream",
     "text": [
      "input shape: torch.Size([3, 2])\n",
      "\n",
      "output: \n",
      "tensor([[2.3378, 0.6147, 0.7451, 0.6186],\n",
      "        [4.5928, 1.5825, 0.7206, 0.7607],\n",
      "        [6.8478, 2.5503, 0.6961, 0.9027]], grad_fn=<AddmmBackward0>)\n",
      "\n",
      " output shape: torch.Size([3, 4])\n"
     ]
    }
   ],
   "source": [
    "torch.manual_seed(42)\n",
    "linear = torch.nn.Linear(in_features = 2, out_features = 4)\n",
    "x = tensor_A\n",
    "output = linear(x)\n",
    "print(f'input shape: {x.shape}\\n')\n",
    "print(f'output: \\n{output}\\n\\n output shape: {output.shape}')"
   ]
  },
  {
   "cell_type": "code",
   "execution_count": 52,
   "metadata": {},
   "outputs": [],
   "source": [
    "tensor_A = torch.tensor([[1,2,7],\n",
    "                        [3,8,4],\n",
    "                        [5,6,3]], dtype = torch.float32)\n",
    "\n",
    "tensor_B = torch.tensor([[7,8],\n",
    "                        [9,10],\n",
    "                        [11,12]], dtype = torch.float32)"
   ]
  },
  {
   "cell_type": "code",
   "execution_count": 53,
   "metadata": {},
   "outputs": [
    {
     "name": "stdout",
     "output_type": "stream",
     "text": [
      "input shape: torch.Size([3, 3])\n",
      "\n",
      "output: \n",
      "tensor([[0.8796, 1.1711, 4.2382, 1.2550],\n",
      "        [5.0434, 1.1233, 4.1835, 3.0947],\n",
      "        [5.1030, 2.3205, 2.4342, 1.1358]], grad_fn=<AddmmBackward0>)\n",
      "\n",
      " output shape: torch.Size([3, 4])\n"
     ]
    }
   ],
   "source": [
    "torch.manual_seed(42)\n",
    "# creates matrix of dimension in_features * out_features and does matrix multiplication with another matrix\n",
    "linear = torch.nn.Linear(in_features = 3, out_features = 4)\n",
    "x = tensor_A\n",
    "output = linear(x)\n",
    "print(f'input shape: {x.shape}\\n')\n",
    "print(f'output: \\n{output}\\n\\n output shape: {output.shape}')"
   ]
  },
  {
   "cell_type": "code",
   "execution_count": 54,
   "metadata": {},
   "outputs": [
    {
     "data": {
      "text/plain": [
       "tensor([ 0, 10, 20, 30, 40, 50, 60, 70, 80, 90])"
      ]
     },
     "execution_count": 54,
     "metadata": {},
     "output_type": "execute_result"
    }
   ],
   "source": [
    "x = torch.arange(0, 100, 10)\n",
    "x"
   ]
  },
  {
   "cell_type": "code",
   "execution_count": 55,
   "metadata": {},
   "outputs": [
    {
     "name": "stdout",
     "output_type": "stream",
     "text": [
      "minimun: 0\n",
      "maximum: 90\n",
      "mean: 45.0\n",
      "sum: 450\n"
     ]
    }
   ],
   "source": [
    "print(f'minimun: {x.min()}')\n",
    "print(f'maximum: {x.max()}')\n",
    "# print(f'mean: {x.mean()}') shows error because it is not in float datatype\n",
    "print(f\"mean: {x.type(torch.float32).mean()}\")# x.mean() doesnt work if it isnot in float datatype\n",
    "print(f'sum: {x.sum()}')"
   ]
  },
  {
   "cell_type": "code",
   "execution_count": 56,
   "metadata": {},
   "outputs": [
    {
     "data": {
      "text/plain": [
       "(tensor(90), tensor(0), tensor(45.), tensor(450))"
      ]
     },
     "execution_count": 56,
     "metadata": {},
     "output_type": "execute_result"
    }
   ],
   "source": [
    "torch.max(x), torch.min(x), torch.mean(x.type(torch.float32).mean()), torch.sum(x)"
   ]
  },
  {
   "cell_type": "code",
   "execution_count": 57,
   "metadata": {},
   "outputs": [
    {
     "name": "stdout",
     "output_type": "stream",
     "text": [
      "tensor: tensor([10, 20, 30, 40, 50, 60, 70, 80, 90])\n",
      "index where max value is: 8\n",
      "position where max value is: 9\n",
      "index where min value is: 0\n",
      "position where min value is: 0\n"
     ]
    }
   ],
   "source": [
    "tensor = torch.arange(10, 100, 10)\n",
    "print(f'tensor: {tensor}')\n",
    "\n",
    "# argmax and argmin using variable give the index of max and min value respectively where index starts from 0\n",
    "print(f'index where max value is: {tensor.argmax()}')\n",
    "# argmax and argmin using torch give the position of max and min value respectively\n",
    "print(f'position where max value is: {torch.argmax(x)}')\n",
    "# argmax and argmin using variable give the index of max and min value respectively where index starts from 0\n",
    "print(f'index where min value is: {tensor.argmin()}')\n",
    "# argmax and argmin using torch give the position of max and min value respectively\n",
    "print(f'position where min value is: {torch.argmin(x)}')"
   ]
  },
  {
   "cell_type": "code",
   "execution_count": 58,
   "metadata": {},
   "outputs": [
    {
     "data": {
      "text/plain": [
       "torch.float32"
      ]
     },
     "execution_count": 58,
     "metadata": {},
     "output_type": "execute_result"
    }
   ],
   "source": [
    "tensor = torch.arange(10., 100., 10.)\n",
    "tensor.dtype"
   ]
  },
  {
   "cell_type": "code",
   "execution_count": 59,
   "metadata": {},
   "outputs": [
    {
     "data": {
      "text/plain": [
       "tensor([10., 20., 30., 40., 50., 60., 70., 80., 90.], dtype=torch.float16)"
      ]
     },
     "execution_count": 59,
     "metadata": {},
     "output_type": "execute_result"
    }
   ],
   "source": [
    "tensor_float16 = tensor.type(torch.float16)\n",
    "tensor_float16"
   ]
  },
  {
   "cell_type": "code",
   "execution_count": 60,
   "metadata": {},
   "outputs": [
    {
     "data": {
      "text/plain": [
       "tensor([10, 20, 30, 40, 50, 60, 70, 80, 90], dtype=torch.int8)"
      ]
     },
     "execution_count": 60,
     "metadata": {},
     "output_type": "execute_result"
    }
   ],
   "source": [
    "tensor_int8 = tensor.type(torch.int8)\n",
    "tensor_int8"
   ]
  },
  {
   "cell_type": "code",
   "execution_count": 61,
   "metadata": {},
   "outputs": [
    {
     "data": {
      "text/plain": [
       "(tensor([1., 2., 3., 4., 5., 6., 7.]), torch.Size([7]))"
      ]
     },
     "execution_count": 61,
     "metadata": {},
     "output_type": "execute_result"
    }
   ],
   "source": [
    "x = torch.arange(1., 8.)\n",
    "x, x.shape"
   ]
  },
  {
   "cell_type": "code",
   "execution_count": 62,
   "metadata": {},
   "outputs": [
    {
     "data": {
      "text/plain": [
       "(tensor([[1., 2., 3., 4., 5., 6., 7.]]), torch.Size([1, 7]))"
      ]
     },
     "execution_count": 62,
     "metadata": {},
     "output_type": "execute_result"
    }
   ],
   "source": [
    "x_reshaped = x.reshape(1, 7)\n",
    "x_reshaped, x_reshaped.shape"
   ]
  },
  {
   "cell_type": "code",
   "execution_count": 63,
   "metadata": {},
   "outputs": [
    {
     "data": {
      "text/plain": [
       "(tensor([[1., 2., 3., 4., 5., 6., 7.]]), torch.Size([1, 7]))"
      ]
     },
     "execution_count": 63,
     "metadata": {},
     "output_type": "execute_result"
    }
   ],
   "source": [
    "z = x.view(1,7)\n",
    "z, z.shape"
   ]
  },
  {
   "cell_type": "code",
   "execution_count": 64,
   "metadata": {},
   "outputs": [
    {
     "data": {
      "text/plain": [
       "(torch.Size([1, 7]), torch.Size([7]))"
      ]
     },
     "execution_count": 64,
     "metadata": {},
     "output_type": "execute_result"
    }
   ],
   "source": [
    "x.view(1, 7).shape, x.shape"
   ]
  },
  {
   "cell_type": "code",
   "execution_count": 65,
   "metadata": {},
   "outputs": [
    {
     "data": {
      "text/plain": [
       "(tensor([[9., 2., 3., 4., 5., 6., 7.]]), tensor([9., 2., 3., 4., 5., 6., 7.]))"
      ]
     },
     "execution_count": 65,
     "metadata": {},
     "output_type": "execute_result"
    }
   ],
   "source": [
    "# changing the view changes the original tensor as well\n",
    "z[:, 0] = 9\n",
    "z, x"
   ]
  },
  {
   "cell_type": "code",
   "execution_count": 66,
   "metadata": {},
   "outputs": [
    {
     "name": "stdout",
     "output_type": "stream",
     "text": [
      "tensor([ 7.,  8.,  9., 10., 11., 12., 13.])\n",
      "tensor([9., 2., 3., 4., 5., 6., 7.])\n"
     ]
    },
    {
     "data": {
      "text/plain": [
       "tensor([[ 9.,  7.],\n",
       "        [ 2.,  8.],\n",
       "        [ 3.,  9.],\n",
       "        [ 4., 10.],\n",
       "        [ 5., 11.],\n",
       "        [ 6., 12.],\n",
       "        [ 7., 13.]])"
      ]
     },
     "execution_count": 66,
     "metadata": {},
     "output_type": "execute_result"
    }
   ],
   "source": [
    "y = torch.arange(7., 14,)\n",
    "print(y)\n",
    "print(x)\n",
    "x_stacked = torch.stack([x, y], dim = 1)\n",
    "x_stacked"
   ]
  },
  {
   "cell_type": "code",
   "execution_count": 69,
   "metadata": {},
   "outputs": [
    {
     "name": "stdout",
     "output_type": "stream",
     "text": [
      "previous tensor: tensor([[9., 2., 3., 4., 5., 6., 7.]])\n",
      "previous tensor shape: torch.Size([1, 7])\n",
      "squeezed tensor: tensor([9., 2., 3., 4., 5., 6., 7.])\n",
      "squeezes tensor shape: torch.Size([7])\n"
     ]
    }
   ],
   "source": [
    "print(f'previous tensor: {x_reshaped}')\n",
    "print(f'previous tensor shape: {x_reshaped.shape}')\n",
    "\n",
    "# \n",
    "x_squeezed = x_reshaped.squeeze()\n",
    "print(f'squeezed tensor: {x_squeezed}')\n",
    "print(f'squeezes tensor shape: {x_squeezed.shape}')"
   ]
  },
  {
   "cell_type": "code",
   "execution_count": 70,
   "metadata": {},
   "outputs": [
    {
     "data": {
      "text/plain": [
       "tensor([1., 2., 3., 4., 5., 6., 7.])"
      ]
     },
     "execution_count": 70,
     "metadata": {},
     "output_type": "execute_result"
    }
   ],
   "source": [
    "tensor = torch.arange(1., 8.)\n",
    "tensor"
   ]
  },
  {
   "cell_type": "code",
   "execution_count": 75,
   "metadata": {},
   "outputs": [
    {
     "name": "stdout",
     "output_type": "stream",
     "text": [
      "reshaped tensor([[1.],\n",
      "        [2.],\n",
      "        [3.],\n",
      "        [4.],\n",
      "        [5.],\n",
      "        [6.],\n",
      "        [7.]])\n",
      "squeezed tensor([1., 2., 3., 4., 5., 6., 7.])\n",
      "squeezed shape torch.Size([7])\n"
     ]
    }
   ],
   "source": [
    "x_reshaped_col = tensor.reshape(7,1)\n",
    "# reshaped in row-wise\n",
    "print(f'reshaped',x_reshaped_col)\n",
    "# squeezed removes the dimension 1 if there is the dimension of 1\n",
    "x_squeezed_col_shape = tensor.squeeze()\n",
    "print(f'squeezed', x_squeezed_col_shape)\n",
    "print(f'squeezed shape', x_squeezed_col_shape.shape)\n",
    "\n",
    "# squeezes -> if shape is 1 * n -> n || m * 1 -> m ie remove 1 from the row or column"
   ]
  },
  {
   "cell_type": "code",
   "execution_count": 87,
   "metadata": {},
   "outputs": [
    {
     "name": "stdout",
     "output_type": "stream",
     "text": [
      "squeezed tensor: tensor([9., 2., 3., 4., 5., 6., 7.])\n",
      "squeezed tensor shape: torch.Size([7])\n",
      "\n",
      "unsqueezed tensor: tensor([[9., 2., 3., 4., 5., 6., 7.]])\n",
      "unsqueezed tensor shape: torch.Size([1, 7])\n",
      "\n",
      "unsqueezed tensor: tensor([[[9., 2., 3., 4., 5., 6., 7.]]])\n",
      "unsqueezed tensor shape: torch.Size([1, 1, 7])\n",
      "\n",
      "unsqueezed tensor: tensor([[9.],\n",
      "        [2.],\n",
      "        [3.],\n",
      "        [4.],\n",
      "        [5.],\n",
      "        [6.],\n",
      "        [7.]])\n",
      "unsqueezed tensor shape: torch.Size([7, 1])\n",
      "\n",
      "unsqueezed tensor: tensor([[[9.]],\n",
      "\n",
      "        [[2.]],\n",
      "\n",
      "        [[3.]],\n",
      "\n",
      "        [[4.]],\n",
      "\n",
      "        [[5.]],\n",
      "\n",
      "        [[6.]],\n",
      "\n",
      "        [[7.]]])\n",
      "unsqueezed tensor shape: torch.Size([7, 1, 1])\n",
      "\n"
     ]
    }
   ],
   "source": [
    "print(f'squeezed tensor: {x_squeezed}'+'\\n'+f'squeezed tensor shape: {x_squeezed.shape}\\n')\n",
    "# add exta dimension of 1 at row\n",
    "x_unsqueezed = x_squeezed.unsqueeze(dim = 0)\n",
    "print(f'unsqueezed tensor: {x_unsqueezed}'+'\\n'+f'unsqueezed tensor shape: {x_unsqueezed.shape}\\n')\n",
    "# add exta dimension of 1 at row\n",
    "x_unsqueezed = x_unsqueezed.unsqueeze(dim = 0)\n",
    "print(f'unsqueezed tensor: {x_unsqueezed}'+'\\n'+f'unsqueezed tensor shape: {x_unsqueezed.shape}\\n')\n",
    "# add exta dimension of 1 at column\n",
    "x_unsqueezed = x_squeezed.unsqueeze(dim = 1)\n",
    "print(f'unsqueezed tensor: {x_unsqueezed}'+'\\n'+f'unsqueezed tensor shape: {x_unsqueezed.shape}\\n')\n",
    "# add exta dimension of 1 at column\n",
    "x_unsqueezed = x_unsqueezed.unsqueeze(dim = 1)\n",
    "print(f'unsqueezed tensor: {x_unsqueezed}'+'\\n'+f'unsqueezed tensor shape: {x_unsqueezed.shape}\\n')\n"
   ]
  },
  {
   "cell_type": "code",
   "execution_count": 108,
   "metadata": {},
   "outputs": [
    {
     "name": "stdout",
     "output_type": "stream",
     "text": [
      "original tensor shape: torch.Size([244, 244, 3])\n",
      "premuted tensor shape: torch.Size([3, 244, 244])\n",
      "tensor([[[0.7606, 0.3738, 0.8207,  ..., 0.5336, 0.8775, 0.2587],\n",
      "         [0.8034, 0.0794, 0.4255,  ..., 0.3204, 0.8751, 0.3814],\n",
      "         [0.3773, 0.8576, 0.1596,  ..., 0.6466, 0.2256, 0.4973],\n",
      "         ...,\n",
      "         [0.4210, 0.5130, 0.0625,  ..., 0.9446, 0.8280, 0.1118],\n",
      "         [0.5190, 0.6591, 0.1096,  ..., 0.2477, 0.1180, 0.4166],\n",
      "         [0.5741, 0.8618, 0.0905,  ..., 0.0610, 0.5598, 0.9625]],\n",
      "\n",
      "        [[0.4232, 0.0693, 0.9926,  ..., 0.1225, 0.9582, 0.4532],\n",
      "         [0.8024, 0.6632, 0.5936,  ..., 0.0228, 0.4546, 0.5116],\n",
      "         [0.4336, 0.2841, 0.9380,  ..., 0.3106, 0.0159, 0.8672],\n",
      "         ...,\n",
      "         [0.0068, 0.1871, 0.7697,  ..., 0.5772, 0.1150, 0.4920],\n",
      "         [0.7262, 0.4383, 0.7786,  ..., 0.1010, 0.7573, 0.8105],\n",
      "         [0.4458, 0.6736, 0.5743,  ..., 0.8561, 0.1479, 0.4157]],\n",
      "\n",
      "        [[0.1388, 0.4013, 0.2055,  ..., 0.1354, 0.5631, 0.9135],\n",
      "         [0.1175, 0.1323, 0.6820,  ..., 0.9755, 0.2559, 0.6137],\n",
      "         [0.0989, 0.5692, 0.0547,  ..., 0.9406, 0.2979, 0.6392],\n",
      "         ...,\n",
      "         [0.7473, 0.5703, 0.1238,  ..., 0.5982, 0.4828, 0.1958],\n",
      "         [0.1470, 0.3285, 0.7110,  ..., 0.4209, 0.6071, 0.9976],\n",
      "         [0.7623, 0.2748, 0.6334,  ..., 0.4090, 0.3789, 0.9572]]])\n"
     ]
    }
   ],
   "source": [
    "x_original = torch.rand(size = (244, 244, 3))\n",
    "x_permuted = x_original.permute(2, 0, 1)\n",
    "\n",
    "print(f'original tensor shape: {x_original.shape}')\n",
    "print(f'premuted tensor shape: {x_permuted.shape}')\n",
    "\n",
    "print(x_permuted)"
   ]
  },
  {
   "cell_type": "code",
   "execution_count": null,
   "metadata": {},
   "outputs": [],
   "source": []
  }
 ],
 "metadata": {
  "colab": {
   "gpuType": "T4",
   "provenance": []
  },
  "kernelspec": {
   "display_name": "Python 3 (ipykernel)",
   "language": "python",
   "name": "python3"
  },
  "language_info": {
   "codemirror_mode": {
    "name": "ipython",
    "version": 3
   },
   "file_extension": ".py",
   "mimetype": "text/x-python",
   "name": "python",
   "nbconvert_exporter": "python",
   "pygments_lexer": "ipython3",
   "version": "3.12.3"
  }
 },
 "nbformat": 4,
 "nbformat_minor": 4
}
