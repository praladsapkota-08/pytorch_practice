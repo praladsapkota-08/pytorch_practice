{
 "cells": [
  {
   "cell_type": "code",
   "execution_count": 1,
   "metadata": {
    "colab": {
     "base_uri": "https://localhost:8080/"
    },
    "id": "lrJt0qJGu625",
    "outputId": "36019653-77d8-4fdf-f760-94cfe40eb184"
   },
   "outputs": [
    {
     "name": "stdout",
     "output_type": "stream",
     "text": [
      "hello world\n"
     ]
    }
   ],
   "source": [
    "print('hello world')"
   ]
  },
  {
   "cell_type": "code",
   "execution_count": 2,
   "metadata": {
    "colab": {
     "base_uri": "https://localhost:8080/"
    },
    "id": "S5j8WvKrrVVd",
    "outputId": "0fa9ceca-2dff-420c-8e20-ec891722723b"
   },
   "outputs": [
    {
     "name": "stdout",
     "output_type": "stream",
     "text": [
      "Mon Jul 28 22:32:51 2025       \n",
      "+-----------------------------------------------------------------------------+\n",
      "| NVIDIA-SMI 497.29       Driver Version: 497.29       CUDA Version: 11.5     |\n",
      "|-------------------------------+----------------------+----------------------+\n",
      "| GPU  Name            TCC/WDDM | Bus-Id        Disp.A | Volatile Uncorr. ECC |\n",
      "| Fan  Temp  Perf  Pwr:Usage/Cap|         Memory-Usage | GPU-Util  Compute M. |\n",
      "|                               |                      |               MIG M. |\n",
      "|===============================+======================+======================|\n",
      "|   0  NVIDIA GeForce ... WDDM  | 00000000:01:00.0  On |                  N/A |\n",
      "| N/A   45C    P8     5W /  N/A |    576MiB /  4096MiB |     21%      Default |\n",
      "|                               |                      |                  N/A |\n",
      "+-------------------------------+----------------------+----------------------+\n",
      "                                                                               \n",
      "+-----------------------------------------------------------------------------+\n",
      "| Processes:                                                                  |\n",
      "|  GPU   GI   CI        PID   Type   Process name                  GPU Memory |\n",
      "|        ID   ID                                                   Usage      |\n",
      "|=============================================================================|\n",
      "|    0   N/A  N/A      1216    C+G   Insufficient Permissions        N/A      |\n",
      "|    0   N/A  N/A      2172    C+G   ...ser\\Application\\brave.exe    N/A      |\n",
      "|    0   N/A  N/A      5824    C+G   ...ws\\System32\\ShellHost.exe    N/A      |\n",
      "|    0   N/A  N/A      8048    C+G   ...ekyb3d8bbwe\\onenoteim.exe    N/A      |\n",
      "|    0   N/A  N/A      8328    C+G   ...Client\\v1.6.0\\rsAppUI.exe    N/A      |\n",
      "|    0   N/A  N/A      9816    C+G   ...batNotificationClient.exe    N/A      |\n",
      "|    0   N/A  N/A     10292    C+G   ...ser\\Application\\brave.exe    N/A      |\n",
      "|    0   N/A  N/A     12988    C+G   ...lPanel\\SystemSettings.exe    N/A      |\n",
      "|    0   N/A  N/A     13048    C+G   ...\\ApplicationFrameHost.exe    N/A      |\n",
      "|    0   N/A  N/A     14324    C+G   C:\\Windows\\explorer.exe         N/A      |\n",
      "|    0   N/A  N/A     14876    C+G   ...ewy\\CrossDeviceResume.exe    N/A      |\n",
      "|    0   N/A  N/A     15700    C+G   ...n1h2txyewy\\SearchHost.exe    N/A      |\n",
      "|    0   N/A  N/A     15728    C+G   ...artMenuExperienceHost.exe    N/A      |\n",
      "|    0   N/A  N/A     16676    C+G   ...e\\PhoneExperienceHost.exe    N/A      |\n",
      "|    0   N/A  N/A     17364    C+G   ...51.109\\msedgewebview2.exe    N/A      |\n",
      "|    0   N/A  N/A     17988    C+G   ...v1g1gvanyjgm\\WhatsApp.exe    N/A      |\n",
      "|    0   N/A  N/A     18320    C+G   ...2txyewy\\TextInputHost.exe    N/A      |\n",
      "|    0   N/A  N/A     20096    C+G   ...ge\\Application\\msedge.exe    N/A      |\n",
      "|    0   N/A  N/A     20696    C+G   ...8bbwe\\WindowsTerminal.exe    N/A      |\n",
      "+-----------------------------------------------------------------------------+\n"
     ]
    }
   ],
   "source": [
    "!nvidia-smi"
   ]
  },
  {
   "cell_type": "code",
   "execution_count": 3,
   "metadata": {
    "colab": {
     "base_uri": "https://localhost:8080/"
    },
    "id": "EhvHTzpUra6M",
    "outputId": "b27cc58a-83b5-4ca1-b4da-c47edf9107a9"
   },
   "outputs": [
    {
     "name": "stdout",
     "output_type": "stream",
     "text": [
      "2.5.1\n"
     ]
    }
   ],
   "source": [
    "import torch\n",
    "import pandas as pd\n",
    "import numpy as np\n",
    "import matplotlib.pyplot as plt\n",
    "\n",
    "print(torch.__version__)"
   ]
  },
  {
   "cell_type": "markdown",
   "metadata": {
    "id": "NF8FpGkOs7Eb"
   },
   "source": [
    "Introduction to Tensors\n",
    "\n",
    "creating tensors"
   ]
  },
  {
   "cell_type": "code",
   "execution_count": 4,
   "metadata": {
    "colab": {
     "base_uri": "https://localhost:8080/"
    },
    "id": "w8ARD7a0r6y8",
    "outputId": "7cd2bb2a-67bb-4550-aaee-74520301420e"
   },
   "outputs": [
    {
     "data": {
      "text/plain": [
       "tensor(7)"
      ]
     },
     "execution_count": 4,
     "metadata": {},
     "output_type": "execute_result"
    }
   ],
   "source": [
    "scalar = torch.tensor(7)\n",
    "scalar"
   ]
  },
  {
   "cell_type": "code",
   "execution_count": 5,
   "metadata": {
    "colab": {
     "base_uri": "https://localhost:8080/"
    },
    "id": "0MFPCXwptRIR",
    "outputId": "b99c165b-7dbb-4b2a-e301-4d98359ae717"
   },
   "outputs": [
    {
     "data": {
      "text/plain": [
       "0"
      ]
     },
     "execution_count": 5,
     "metadata": {},
     "output_type": "execute_result"
    }
   ],
   "source": [
    "scalar.ndim"
   ]
  },
  {
   "cell_type": "code",
   "execution_count": 6,
   "metadata": {
    "colab": {
     "base_uri": "https://localhost:8080/"
    },
    "id": "Mp5oIcJJt2T4",
    "outputId": "8383f15d-5e95-4b0e-e9c2-5eca8d251f91"
   },
   "outputs": [
    {
     "data": {
      "text/plain": [
       "7"
      ]
     },
     "execution_count": 6,
     "metadata": {},
     "output_type": "execute_result"
    }
   ],
   "source": [
    "scalar.item()"
   ]
  },
  {
   "cell_type": "code",
   "execution_count": 7,
   "metadata": {
    "colab": {
     "base_uri": "https://localhost:8080/"
    },
    "id": "6ooZQOOOt6bI",
    "outputId": "cbdaf8cf-01b8-4b1b-ce79-9bc95bae3e80"
   },
   "outputs": [
    {
     "data": {
      "text/plain": [
       "tensor([7, 7])"
      ]
     },
     "execution_count": 7,
     "metadata": {},
     "output_type": "execute_result"
    }
   ],
   "source": [
    "vector = torch.tensor([7,7])\n",
    "vector"
   ]
  },
  {
   "cell_type": "code",
   "execution_count": 8,
   "metadata": {
    "colab": {
     "base_uri": "https://localhost:8080/"
    },
    "id": "z9vaGXn_t__w",
    "outputId": "58525a98-18f2-4bf4-ae58-4de78e1cd9ec"
   },
   "outputs": [
    {
     "data": {
      "text/plain": [
       "1"
      ]
     },
     "execution_count": 8,
     "metadata": {},
     "output_type": "execute_result"
    }
   ],
   "source": [
    "vector.ndim"
   ]
  },
  {
   "cell_type": "code",
   "execution_count": 9,
   "metadata": {
    "colab": {
     "base_uri": "https://localhost:8080/"
    },
    "id": "pamrm_pTuML-",
    "outputId": "6af536d9-69ca-494d-af9c-4b540729c380"
   },
   "outputs": [
    {
     "data": {
      "text/plain": [
       "torch.Size([2])"
      ]
     },
     "execution_count": 9,
     "metadata": {},
     "output_type": "execute_result"
    }
   ],
   "source": [
    "vector.shape"
   ]
  },
  {
   "cell_type": "code",
   "execution_count": 10,
   "metadata": {
    "colab": {
     "base_uri": "https://localhost:8080/"
    },
    "id": "FnxPN0dOuQMf",
    "outputId": "793ebde5-7796-440e-fb76-ef621ed6956b"
   },
   "outputs": [
    {
     "data": {
      "text/plain": [
       "tensor([[ 7,  8],\n",
       "        [ 9, 10]])"
      ]
     },
     "execution_count": 10,
     "metadata": {},
     "output_type": "execute_result"
    }
   ],
   "source": [
    "MATRIX = torch.tensor([[7,8],\n",
    "                       [9,10]])\n",
    "\n",
    "MATRIX"
   ]
  },
  {
   "cell_type": "code",
   "execution_count": 11,
   "metadata": {
    "colab": {
     "base_uri": "https://localhost:8080/"
    },
    "id": "mYOaKDFjunZ-",
    "outputId": "e452ff49-06db-4052-9406-98939a1b4793"
   },
   "outputs": [
    {
     "data": {
      "text/plain": [
       "2"
      ]
     },
     "execution_count": 11,
     "metadata": {},
     "output_type": "execute_result"
    }
   ],
   "source": [
    "MATRIX.ndim"
   ]
  },
  {
   "cell_type": "code",
   "execution_count": 12,
   "metadata": {
    "colab": {
     "base_uri": "https://localhost:8080/"
    },
    "id": "sZniXlNLux52",
    "outputId": "5df62f31-38a2-4e54-f59e-5d8e42209cf8"
   },
   "outputs": [
    {
     "data": {
      "text/plain": [
       "tensor([ 9, 10])"
      ]
     },
     "execution_count": 12,
     "metadata": {},
     "output_type": "execute_result"
    }
   ],
   "source": [
    "MATRIX[1]"
   ]
  },
  {
   "cell_type": "code",
   "execution_count": 13,
   "metadata": {
    "colab": {
     "base_uri": "https://localhost:8080/"
    },
    "id": "QKpv4nuhu3N9",
    "outputId": "248eb999-d57d-4adc-b9c3-eabcda310faf"
   },
   "outputs": [
    {
     "data": {
      "text/plain": [
       "torch.Size([2, 2])"
      ]
     },
     "execution_count": 13,
     "metadata": {},
     "output_type": "execute_result"
    }
   ],
   "source": [
    "MATRIX.shape"
   ]
  },
  {
   "cell_type": "code",
   "execution_count": 14,
   "metadata": {
    "colab": {
     "base_uri": "https://localhost:8080/"
    },
    "id": "uO-WYJegu98u",
    "outputId": "59c306d8-571c-4e72-a76e-75a4827c8ce9"
   },
   "outputs": [
    {
     "data": {
      "text/plain": [
       "tensor([[[1, 2, 3],\n",
       "         [3, 6, 9],\n",
       "         [2, 4, 5]]])"
      ]
     },
     "execution_count": 14,
     "metadata": {},
     "output_type": "execute_result"
    }
   ],
   "source": [
    "TENSOR = torch.tensor([[[1,2,3],\n",
    "                        [3,6,9],\n",
    "                        [2,4,5]]])\n",
    "TENSOR"
   ]
  },
  {
   "cell_type": "code",
   "execution_count": 15,
   "metadata": {
    "colab": {
     "base_uri": "https://localhost:8080/"
    },
    "id": "Au6A0e-JvTcG",
    "outputId": "99dd5191-7b89-438e-906f-9cba31a211d4"
   },
   "outputs": [
    {
     "data": {
      "text/plain": [
       "3"
      ]
     },
     "execution_count": 15,
     "metadata": {},
     "output_type": "execute_result"
    }
   ],
   "source": [
    "TENSOR.ndim"
   ]
  },
  {
   "cell_type": "code",
   "execution_count": 16,
   "metadata": {
    "colab": {
     "base_uri": "https://localhost:8080/"
    },
    "id": "cfzIYNggvczE",
    "outputId": "a42bb7b0-ab03-4a88-94d9-b610d59a27c1"
   },
   "outputs": [
    {
     "data": {
      "text/plain": [
       "tensor([[0.4534, 0.3076, 0.8715, 0.5051],\n",
       "        [0.0425, 0.2766, 0.0376, 0.0793],\n",
       "        [0.7848, 0.8472, 0.7982, 0.1313]])"
      ]
     },
     "execution_count": 16,
     "metadata": {},
     "output_type": "execute_result"
    }
   ],
   "source": [
    "random_tensor = torch.rand(3,4)\n",
    "random_tensor"
   ]
  },
  {
   "cell_type": "code",
   "execution_count": 17,
   "metadata": {
    "colab": {
     "base_uri": "https://localhost:8080/"
    },
    "id": "YZ_w5bPCHXFC",
    "outputId": "b6c947e6-4325-44d5-81bc-c489525e4c03"
   },
   "outputs": [
    {
     "data": {
      "text/plain": [
       "2"
      ]
     },
     "execution_count": 17,
     "metadata": {},
     "output_type": "execute_result"
    }
   ],
   "source": [
    "random_tensor.ndim"
   ]
  },
  {
   "cell_type": "code",
   "execution_count": 18,
   "metadata": {
    "colab": {
     "base_uri": "https://localhost:8080/"
    },
    "id": "URSJ3kBRH2un",
    "outputId": "89c00854-c83a-4bb5-a2ce-ad3564edf997"
   },
   "outputs": [
    {
     "data": {
      "text/plain": [
       "(torch.Size([224, 224, 3]), 3)"
      ]
     },
     "execution_count": 18,
     "metadata": {},
     "output_type": "execute_result"
    }
   ],
   "source": [
    "random_image_size_tensor = torch.rand(size=(224,224,3))\n",
    "random_image_size_tensor.shape, random_image_size_tensor.ndim"
   ]
  },
  {
   "cell_type": "code",
   "execution_count": 19,
   "metadata": {
    "colab": {
     "base_uri": "https://localhost:8080/"
    },
    "id": "gQa3mdMoH2sG",
    "outputId": "0dd36b9d-11db-436d-c6de-4749a9ad7bf7"
   },
   "outputs": [
    {
     "data": {
      "text/plain": [
       "tensor([[0., 0., 0., 0.],\n",
       "        [0., 0., 0., 0.],\n",
       "        [0., 0., 0., 0.]])"
      ]
     },
     "execution_count": 19,
     "metadata": {},
     "output_type": "execute_result"
    }
   ],
   "source": [
    "zeros = torch.zeros(size = (3,4))\n",
    "zeros"
   ]
  },
  {
   "cell_type": "code",
   "execution_count": 20,
   "metadata": {
    "colab": {
     "base_uri": "https://localhost:8080/"
    },
    "id": "tE11gjYwH2ot",
    "outputId": "e7ec3efb-6256-4880-eff0-309db7e36974"
   },
   "outputs": [
    {
     "data": {
      "text/plain": [
       "tensor([[0., 0., 0., 0.],\n",
       "        [0., 0., 0., 0.],\n",
       "        [0., 0., 0., 0.]])"
      ]
     },
     "execution_count": 20,
     "metadata": {},
     "output_type": "execute_result"
    }
   ],
   "source": [
    "zeros * random_tensor"
   ]
  },
  {
   "cell_type": "code",
   "execution_count": 21,
   "metadata": {
    "colab": {
     "base_uri": "https://localhost:8080/"
    },
    "id": "wTxM0IzlH2jV",
    "outputId": "744177f6-8005-432c-f2c0-91229152b139"
   },
   "outputs": [
    {
     "data": {
      "text/plain": [
       "tensor([[1., 1., 1., 1.],\n",
       "        [1., 1., 1., 1.],\n",
       "        [1., 1., 1., 1.]])"
      ]
     },
     "execution_count": 21,
     "metadata": {},
     "output_type": "execute_result"
    }
   ],
   "source": [
    "ones = torch.ones(size=(3,4))\n",
    "ones"
   ]
  },
  {
   "cell_type": "code",
   "execution_count": 22,
   "metadata": {
    "id": "Pi1gRN5WH2g1"
   },
   "outputs": [
    {
     "data": {
      "text/plain": [
       "tensor([0, 1, 2, 3, 4, 5, 6, 7, 8, 9])"
      ]
     },
     "execution_count": 22,
     "metadata": {},
     "output_type": "execute_result"
    }
   ],
   "source": [
    "torch.arange(0,10)"
   ]
  },
  {
   "cell_type": "code",
   "execution_count": 23,
   "metadata": {
    "id": "czOnPBoWH2eV"
   },
   "outputs": [],
   "source": [
    "one_to_ten = torch.arange(start = 1, end = 11, step = 1)"
   ]
  },
  {
   "cell_type": "code",
   "execution_count": 24,
   "metadata": {},
   "outputs": [
    {
     "data": {
      "text/plain": [
       "tensor([0, 0, 0, 0, 0, 0, 0, 0, 0, 0])"
      ]
     },
     "execution_count": 24,
     "metadata": {},
     "output_type": "execute_result"
    }
   ],
   "source": [
    "# Creating tensor like zeros\n",
    "ten_zeros = torch.zeros_like(input = one_to_ten)\n",
    "ten_zeros"
   ]
  },
  {
   "cell_type": "code",
   "execution_count": 25,
   "metadata": {
    "id": "wPeyXex8H2cF"
   },
   "outputs": [
    {
     "data": {
      "text/plain": [
       "tensor([3., 6., 9.])"
      ]
     },
     "execution_count": 25,
     "metadata": {},
     "output_type": "execute_result"
    }
   ],
   "source": [
    "#float 32 tensor\n",
    "float_32_tensor = torch.tensor([3.0,6.0,9.0] ,\n",
    "                               dtype = None,\n",
    "                               device = None,\n",
    "                               requires_grad = False)\n",
    "float_32_tensor"
   ]
  },
  {
   "cell_type": "code",
   "execution_count": 26,
   "metadata": {
    "id": "2AbRcq51H2Zt"
   },
   "outputs": [
    {
     "data": {
      "text/plain": [
       "torch.float32"
      ]
     },
     "execution_count": 26,
     "metadata": {},
     "output_type": "execute_result"
    }
   ],
   "source": [
    "float_32_tensor.dtype"
   ]
  },
  {
   "cell_type": "code",
   "execution_count": 27,
   "metadata": {
    "id": "NW5jU8k3H2XV"
   },
   "outputs": [
    {
     "data": {
      "text/plain": [
       "tensor([3., 6., 9.], dtype=torch.float16)"
      ]
     },
     "execution_count": 27,
     "metadata": {},
     "output_type": "execute_result"
    }
   ],
   "source": [
    "float_16_tensor = float_32_tensor.type(torch.float16)\n",
    "float_16_tensor"
   ]
  },
  {
   "cell_type": "code",
   "execution_count": 28,
   "metadata": {
    "id": "L2DhWPGvH2U1"
   },
   "outputs": [
    {
     "data": {
      "text/plain": [
       "torch.float16"
      ]
     },
     "execution_count": 28,
     "metadata": {},
     "output_type": "execute_result"
    }
   ],
   "source": [
    "float_16_tensor = torch.tensor([3.0, 6.0, 9.0],\n",
    "                              dtype = torch.float16)\n",
    "float_16_tensor.dtype"
   ]
  },
  {
   "cell_type": "code",
   "execution_count": 29,
   "metadata": {
    "id": "CLhUJELjH2SF"
   },
   "outputs": [
    {
     "name": "stdout",
     "output_type": "stream",
     "text": [
      "tensor([[0.4464, 0.6958, 0.3890, 0.2389],\n",
      "        [0.3450, 0.8755, 0.7159, 0.8970],\n",
      "        [0.0491, 0.9154, 0.4392, 0.4227]])\n",
      "shape of tensor: torch.Size([3, 4])\n",
      "datatype of tensor: torch.float32\n",
      "device tensor is stored in : cpu\n"
     ]
    }
   ],
   "source": [
    "some_tensor = torch.rand(3,4)\n",
    "print(some_tensor)\n",
    "print(f'shape of tensor: {some_tensor.shape}')\n",
    "print(f'datatype of tensor: {some_tensor.dtype}')\n",
    "print(f'device tensor is stored in : {some_tensor.device}')"
   ]
  },
  {
   "cell_type": "code",
   "execution_count": 30,
   "metadata": {
    "id": "QlYsyzauH2O_"
   },
   "outputs": [],
   "source": [
    "# When you run into issues in PyTorch, it's very often one to do with one of the three attributes above. So when the error messages show up, sing yourself a little song called \"what, what, where "
   ]
  },
  {
   "cell_type": "code",
   "execution_count": 31,
   "metadata": {
    "id": "xViPI_neHd7I"
   },
   "outputs": [
    {
     "data": {
      "text/plain": [
       "tensor([11, 12, 13])"
      ]
     },
     "execution_count": 31,
     "metadata": {},
     "output_type": "execute_result"
    }
   ],
   "source": [
    "tensor = torch.tensor([1,2,3])\n",
    "tensor + 10"
   ]
  },
  {
   "cell_type": "code",
   "execution_count": 32,
   "metadata": {},
   "outputs": [
    {
     "data": {
      "text/plain": [
       "tensor([10, 20, 30])"
      ]
     },
     "execution_count": 32,
     "metadata": {},
     "output_type": "execute_result"
    }
   ],
   "source": [
    "tensor * 10"
   ]
  },
  {
   "cell_type": "code",
   "execution_count": 33,
   "metadata": {},
   "outputs": [
    {
     "data": {
      "text/plain": [
       "tensor([1, 2, 3])"
      ]
     },
     "execution_count": 33,
     "metadata": {},
     "output_type": "execute_result"
    }
   ],
   "source": [
    "# tensor dont change unless reassigned\n",
    "tensor"
   ]
  },
  {
   "cell_type": "code",
   "execution_count": 34,
   "metadata": {},
   "outputs": [
    {
     "data": {
      "text/plain": [
       "tensor([-9, -8, -7])"
      ]
     },
     "execution_count": 34,
     "metadata": {},
     "output_type": "execute_result"
    }
   ],
   "source": [
    "tensor = tensor - 10\n",
    "tensor"
   ]
  },
  {
   "cell_type": "code",
   "execution_count": 35,
   "metadata": {},
   "outputs": [
    {
     "data": {
      "text/plain": [
       "tensor([1, 2, 3])"
      ]
     },
     "execution_count": 35,
     "metadata": {},
     "output_type": "execute_result"
    }
   ],
   "source": [
    "tensor = tensor + 10\n",
    "tensor"
   ]
  },
  {
   "cell_type": "code",
   "execution_count": 36,
   "metadata": {},
   "outputs": [
    {
     "data": {
      "text/plain": [
       "tensor([10, 20, 30])"
      ]
     },
     "execution_count": 36,
     "metadata": {},
     "output_type": "execute_result"
    }
   ],
   "source": [
    "# can also use torch multiplication function for multiplication\n",
    "torch.multiply(tensor, 10)"
   ]
  },
  {
   "cell_type": "code",
   "execution_count": 37,
   "metadata": {},
   "outputs": [
    {
     "data": {
      "text/plain": [
       "tensor([1, 2, 3])"
      ]
     },
     "execution_count": 37,
     "metadata": {},
     "output_type": "execute_result"
    }
   ],
   "source": [
    "# original tensor doesnot changes even if we use multiply function\n",
    "tensor"
   ]
  },
  {
   "cell_type": "code",
   "execution_count": 38,
   "metadata": {},
   "outputs": [
    {
     "name": "stdout",
     "output_type": "stream",
     "text": [
      "tensor([1, 2, 3]) * tensor([1, 2, 3])\n",
      "Equals: tensor([1, 4, 9])\n"
     ]
    }
   ],
   "source": [
    "# Element-wise multiplication (each element multiplies its equivalent, index 0->0, 1->1, 2->2)\n",
    "print(tensor, \"*\", tensor)\n",
    "print(\"Equals:\", tensor * tensor)"
   ]
  },
  {
   "cell_type": "code",
   "execution_count": 39,
   "metadata": {},
   "outputs": [
    {
     "name": "stdout",
     "output_type": "stream",
     "text": [
      "tensor([1, 2, 3]) * tensor([7])\n",
      "tensor * tensor_1 = tensor([ 7, 14, 21])\n"
     ]
    }
   ],
   "source": [
    "# broadcasting\n",
    "tensor_1 = torch.tensor([7])\n",
    "print(tensor , '*', tensor_1)\n",
    "print('tensor * tensor_1 =', tensor * tensor_1)\n"
   ]
  },
  {
   "cell_type": "code",
   "execution_count": 40,
   "metadata": {},
   "outputs": [
    {
     "data": {
      "text/plain": [
       "torch.Size([3])"
      ]
     },
     "execution_count": 40,
     "metadata": {},
     "output_type": "execute_result"
    }
   ],
   "source": [
    "tensor = torch.tensor([1,2,3])\n",
    "tensor.shape"
   ]
  },
  {
   "cell_type": "code",
   "execution_count": 41,
   "metadata": {},
   "outputs": [
    {
     "data": {
      "text/plain": [
       "tensor([1, 4, 9])"
      ]
     },
     "execution_count": 41,
     "metadata": {},
     "output_type": "execute_result"
    }
   ],
   "source": [
    "# element wise matrix multiplication\n",
    "tensor * tensor"
   ]
  },
  {
   "cell_type": "code",
   "execution_count": 42,
   "metadata": {},
   "outputs": [
    {
     "data": {
      "text/plain": [
       "tensor(14)"
      ]
     },
     "execution_count": 42,
     "metadata": {},
     "output_type": "execute_result"
    }
   ],
   "source": [
    "# matrix multiplication with matmul function\n",
    "torch.matmul(tensor, tensor)"
   ]
  },
  {
   "cell_type": "code",
   "execution_count": 43,
   "metadata": {},
   "outputs": [
    {
     "data": {
      "text/plain": [
       "tensor(14)"
      ]
     },
     "execution_count": 43,
     "metadata": {},
     "output_type": "execute_result"
    }
   ],
   "source": [
    "# matrix multipication with @\n",
    "tensor @ tensor"
   ]
  },
  {
   "cell_type": "code",
   "execution_count": 44,
   "metadata": {},
   "outputs": [
    {
     "name": "stdout",
     "output_type": "stream",
     "text": [
      "CPU times: total: 0 ns\n",
      "Wall time: 1.1 ms\n"
     ]
    },
    {
     "data": {
      "text/plain": [
       "tensor(14)"
      ]
     },
     "execution_count": 44,
     "metadata": {},
     "output_type": "execute_result"
    }
   ],
   "source": [
    "%%time\n",
    "# Matrix multiplication by hand \n",
    "# (avoid doing operations with for loops at all cost, they are computationally expensive)\n",
    "value = 0\n",
    "for i in range(len(tensor)):\n",
    "  value += tensor[i] * tensor[i]\n",
    "value"
   ]
  },
  {
   "cell_type": "code",
   "execution_count": 45,
   "metadata": {},
   "outputs": [
    {
     "name": "stdout",
     "output_type": "stream",
     "text": [
      "CPU times: total: 0 ns\n",
      "Wall time: 0 ns\n"
     ]
    },
    {
     "data": {
      "text/plain": [
       "tensor(14)"
      ]
     },
     "execution_count": 45,
     "metadata": {},
     "output_type": "execute_result"
    }
   ],
   "source": [
    "%%time\n",
    "torch.matmul(tensor, tensor)"
   ]
  },
  {
   "cell_type": "code",
   "execution_count": 46,
   "metadata": {},
   "outputs": [],
   "source": [
    "tensor_A = torch.tensor([[1,2],\n",
    "                        [3,4],\n",
    "                        [5,6]], dtype = torch.float32)\n",
    "\n",
    "tensor_B = torch.tensor([[7,8],\n",
    "                        [9,10],\n",
    "                        [11,12]], dtype = torch.float32)"
   ]
  },
  {
   "cell_type": "code",
   "execution_count": 47,
   "metadata": {},
   "outputs": [
    {
     "name": "stdout",
     "output_type": "stream",
     "text": [
      "tensor([[1., 2.],\n",
      "        [3., 4.],\n",
      "        [5., 6.]])\n",
      "tensor([[ 7.,  8.],\n",
      "        [ 9., 10.],\n",
      "        [11., 12.]])\n"
     ]
    }
   ],
   "source": [
    "print(tensor_A)\n",
    "print(tensor_B)"
   ]
  },
  {
   "cell_type": "code",
   "execution_count": 48,
   "metadata": {},
   "outputs": [
    {
     "name": "stdout",
     "output_type": "stream",
     "text": [
      "tensor([[1., 2.],\n",
      "        [3., 4.],\n",
      "        [5., 6.]])\n",
      "tensor([[ 7.,  9., 11.],\n",
      "        [ 8., 10., 12.]])\n"
     ]
    }
   ],
   "source": [
    "print(tensor_A)\n",
    "print(tensor_B.T)"
   ]
  },
  {
   "cell_type": "code",
   "execution_count": 49,
   "metadata": {},
   "outputs": [
    {
     "name": "stdout",
     "output_type": "stream",
     "text": [
      "tensor([[ 23.,  29.,  35.],\n",
      "        [ 53.,  67.,  81.],\n",
      "        [ 83., 105., 127.]])\n"
     ]
    }
   ],
   "source": [
    "output = torch.matmul(tensor_A, tensor_B.T)\n",
    "print(output)"
   ]
  },
  {
   "cell_type": "code",
   "execution_count": 50,
   "metadata": {},
   "outputs": [
    {
     "data": {
      "text/plain": [
       "tensor([[ 23.,  29.,  35.],\n",
       "        [ 53.,  67.,  81.],\n",
       "        [ 83., 105., 127.]])"
      ]
     },
     "execution_count": 50,
     "metadata": {},
     "output_type": "execute_result"
    }
   ],
   "source": [
    "# torch.mm is the short form of matmul\n",
    "torch.mm(tensor_A, tensor_B.T)"
   ]
  },
  {
   "cell_type": "code",
   "execution_count": 51,
   "metadata": {},
   "outputs": [
    {
     "name": "stdout",
     "output_type": "stream",
     "text": [
      "input shape: torch.Size([3, 2])\n",
      "\n",
      "output: \n",
      "tensor([[2.3378, 0.6147, 0.7451, 0.6186],\n",
      "        [4.5928, 1.5825, 0.7206, 0.7607],\n",
      "        [6.8478, 2.5503, 0.6961, 0.9027]], grad_fn=<AddmmBackward0>)\n",
      "\n",
      " output shape: torch.Size([3, 4])\n"
     ]
    }
   ],
   "source": [
    "torch.manual_seed(42)\n",
    "linear = torch.nn.Linear(in_features = 2, out_features = 4)\n",
    "x = tensor_A\n",
    "output = linear(x)\n",
    "print(f'input shape: {x.shape}\\n')\n",
    "print(f'output: \\n{output}\\n\\n output shape: {output.shape}')"
   ]
  },
  {
   "cell_type": "code",
   "execution_count": 52,
   "metadata": {},
   "outputs": [],
   "source": [
    "tensor_A = torch.tensor([[1,2,7],\n",
    "                        [3,8,4],\n",
    "                        [5,6,3]], dtype = torch.float32)\n",
    "\n",
    "tensor_B = torch.tensor([[7,8],\n",
    "                        [9,10],\n",
    "                        [11,12]], dtype = torch.float32)"
   ]
  },
  {
   "cell_type": "code",
   "execution_count": 53,
   "metadata": {},
   "outputs": [
    {
     "name": "stdout",
     "output_type": "stream",
     "text": [
      "input shape: torch.Size([3, 3])\n",
      "\n",
      "output: \n",
      "tensor([[0.8796, 1.1711, 4.2382, 1.2550],\n",
      "        [5.0434, 1.1233, 4.1835, 3.0947],\n",
      "        [5.1030, 2.3205, 2.4342, 1.1358]], grad_fn=<AddmmBackward0>)\n",
      "\n",
      " output shape: torch.Size([3, 4])\n"
     ]
    }
   ],
   "source": [
    "torch.manual_seed(42)\n",
    "# creates matrix of dimension in_features * out_features and does matrix multiplication with another matrix\n",
    "linear = torch.nn.Linear(in_features = 3, out_features = 4)\n",
    "x = tensor_A\n",
    "output = linear(x)\n",
    "print(f'input shape: {x.shape}\\n')\n",
    "print(f'output: \\n{output}\\n\\n output shape: {output.shape}')"
   ]
  },
  {
   "cell_type": "code",
   "execution_count": 54,
   "metadata": {},
   "outputs": [
    {
     "data": {
      "text/plain": [
       "tensor([ 0, 10, 20, 30, 40, 50, 60, 70, 80, 90])"
      ]
     },
     "execution_count": 54,
     "metadata": {},
     "output_type": "execute_result"
    }
   ],
   "source": [
    "x = torch.arange(0, 100, 10)\n",
    "x"
   ]
  },
  {
   "cell_type": "code",
   "execution_count": 55,
   "metadata": {},
   "outputs": [
    {
     "name": "stdout",
     "output_type": "stream",
     "text": [
      "minimun: 0\n",
      "maximum: 90\n",
      "mean: 45.0\n",
      "sum: 450\n"
     ]
    }
   ],
   "source": [
    "print(f'minimun: {x.min()}')\n",
    "print(f'maximum: {x.max()}')\n",
    "# print(f'mean: {x.mean()}') shows error because it is not in float datatype\n",
    "print(f\"mean: {x.type(torch.float32).mean()}\")# x.mean() doesnt work if it isnot in float datatype\n",
    "print(f'sum: {x.sum()}')"
   ]
  },
  {
   "cell_type": "code",
   "execution_count": 56,
   "metadata": {},
   "outputs": [
    {
     "data": {
      "text/plain": [
       "(tensor(90), tensor(0), tensor(45.), tensor(450))"
      ]
     },
     "execution_count": 56,
     "metadata": {},
     "output_type": "execute_result"
    }
   ],
   "source": [
    "torch.max(x), torch.min(x), torch.mean(x.type(torch.float32).mean()), torch.sum(x)"
   ]
  },
  {
   "cell_type": "code",
   "execution_count": 57,
   "metadata": {},
   "outputs": [
    {
     "name": "stdout",
     "output_type": "stream",
     "text": [
      "tensor: tensor([10, 20, 30, 40, 50, 60, 70, 80, 90])\n",
      "index where max value is: 8\n",
      "position where max value is: 9\n",
      "index where min value is: 0\n",
      "position where min value is: 0\n"
     ]
    }
   ],
   "source": [
    "tensor = torch.arange(10, 100, 10)\n",
    "print(f'tensor: {tensor}')\n",
    "\n",
    "# argmax and argmin using variable give the index of max and min value respectively where index starts from 0\n",
    "print(f'index where max value is: {tensor.argmax()}')\n",
    "# argmax and argmin using torch give the position of max and min value respectively\n",
    "print(f'position where max value is: {torch.argmax(x)}')\n",
    "# argmax and argmin using variable give the index of max and min value respectively where index starts from 0\n",
    "print(f'index where min value is: {tensor.argmin()}')\n",
    "# argmax and argmin using torch give the position of max and min value respectively\n",
    "print(f'position where min value is: {torch.argmin(x)}')"
   ]
  },
  {
   "cell_type": "code",
   "execution_count": 58,
   "metadata": {},
   "outputs": [
    {
     "data": {
      "text/plain": [
       "torch.float32"
      ]
     },
     "execution_count": 58,
     "metadata": {},
     "output_type": "execute_result"
    }
   ],
   "source": [
    "tensor = torch.arange(10., 100., 10.)\n",
    "tensor.dtype"
   ]
  },
  {
   "cell_type": "code",
   "execution_count": 59,
   "metadata": {},
   "outputs": [
    {
     "data": {
      "text/plain": [
       "tensor([10., 20., 30., 40., 50., 60., 70., 80., 90.], dtype=torch.float16)"
      ]
     },
     "execution_count": 59,
     "metadata": {},
     "output_type": "execute_result"
    }
   ],
   "source": [
    "tensor_float16 = tensor.type(torch.float16)\n",
    "tensor_float16"
   ]
  },
  {
   "cell_type": "code",
   "execution_count": 60,
   "metadata": {},
   "outputs": [
    {
     "data": {
      "text/plain": [
       "tensor([10, 20, 30, 40, 50, 60, 70, 80, 90], dtype=torch.int8)"
      ]
     },
     "execution_count": 60,
     "metadata": {},
     "output_type": "execute_result"
    }
   ],
   "source": [
    "tensor_int8 = tensor.type(torch.int8)\n",
    "tensor_int8"
   ]
  },
  {
   "cell_type": "code",
   "execution_count": 61,
   "metadata": {},
   "outputs": [
    {
     "data": {
      "text/plain": [
       "(tensor([1., 2., 3., 4., 5., 6., 7.]), torch.Size([7]))"
      ]
     },
     "execution_count": 61,
     "metadata": {},
     "output_type": "execute_result"
    }
   ],
   "source": [
    "x = torch.arange(1., 8.)\n",
    "x, x.shape"
   ]
  },
  {
   "cell_type": "code",
   "execution_count": 62,
   "metadata": {},
   "outputs": [
    {
     "data": {
      "text/plain": [
       "(tensor([[1., 2., 3., 4., 5., 6., 7.]]), torch.Size([1, 7]))"
      ]
     },
     "execution_count": 62,
     "metadata": {},
     "output_type": "execute_result"
    }
   ],
   "source": [
    "x_reshaped = x.reshape(1, 7)\n",
    "x_reshaped, x_reshaped.shape"
   ]
  },
  {
   "cell_type": "code",
   "execution_count": 63,
   "metadata": {},
   "outputs": [
    {
     "data": {
      "text/plain": [
       "(tensor([[1., 2., 3., 4., 5., 6., 7.]]), torch.Size([1, 7]))"
      ]
     },
     "execution_count": 63,
     "metadata": {},
     "output_type": "execute_result"
    }
   ],
   "source": [
    "z = x.view(1,7)\n",
    "z, z.shape"
   ]
  },
  {
   "cell_type": "code",
   "execution_count": 64,
   "metadata": {},
   "outputs": [
    {
     "data": {
      "text/plain": [
       "(torch.Size([1, 7]), torch.Size([7]))"
      ]
     },
     "execution_count": 64,
     "metadata": {},
     "output_type": "execute_result"
    }
   ],
   "source": [
    "x.view(1, 7).shape, x.shape"
   ]
  },
  {
   "cell_type": "code",
   "execution_count": 65,
   "metadata": {},
   "outputs": [
    {
     "data": {
      "text/plain": [
       "(tensor([[9., 2., 3., 4., 5., 6., 7.]]), tensor([9., 2., 3., 4., 5., 6., 7.]))"
      ]
     },
     "execution_count": 65,
     "metadata": {},
     "output_type": "execute_result"
    }
   ],
   "source": [
    "# changing the view changes the original tensor as well\n",
    "z[:, 0] = 9\n",
    "z, x"
   ]
  },
  {
   "cell_type": "code",
   "execution_count": 66,
   "metadata": {},
   "outputs": [
    {
     "name": "stdout",
     "output_type": "stream",
     "text": [
      "tensor([ 7.,  8.,  9., 10., 11., 12., 13.])\n",
      "tensor([9., 2., 3., 4., 5., 6., 7.])\n"
     ]
    },
    {
     "data": {
      "text/plain": [
       "tensor([[ 9.,  7.],\n",
       "        [ 2.,  8.],\n",
       "        [ 3.,  9.],\n",
       "        [ 4., 10.],\n",
       "        [ 5., 11.],\n",
       "        [ 6., 12.],\n",
       "        [ 7., 13.]])"
      ]
     },
     "execution_count": 66,
     "metadata": {},
     "output_type": "execute_result"
    }
   ],
   "source": [
    "y = torch.arange(7., 14,)\n",
    "print(y)\n",
    "print(x)\n",
    "x_stacked = torch.stack([x, y], dim = 1)\n",
    "x_stacked"
   ]
  },
  {
   "cell_type": "code",
   "execution_count": 67,
   "metadata": {},
   "outputs": [
    {
     "name": "stdout",
     "output_type": "stream",
     "text": [
      "previous tensor: tensor([[9., 2., 3., 4., 5., 6., 7.]])\n",
      "previous tensor shape: torch.Size([1, 7])\n",
      "squeezed tensor: tensor([9., 2., 3., 4., 5., 6., 7.])\n",
      "squeezes tensor shape: torch.Size([7])\n"
     ]
    }
   ],
   "source": [
    "print(f'previous tensor: {x_reshaped}')\n",
    "print(f'previous tensor shape: {x_reshaped.shape}')\n",
    "\n",
    "# \n",
    "x_squeezed = x_reshaped.squeeze()\n",
    "print(f'squeezed tensor: {x_squeezed}')\n",
    "print(f'squeezes tensor shape: {x_squeezed.shape}')"
   ]
  },
  {
   "cell_type": "code",
   "execution_count": 68,
   "metadata": {},
   "outputs": [
    {
     "data": {
      "text/plain": [
       "tensor([1., 2., 3., 4., 5., 6., 7.])"
      ]
     },
     "execution_count": 68,
     "metadata": {},
     "output_type": "execute_result"
    }
   ],
   "source": [
    "tensor = torch.arange(1., 8.)\n",
    "tensor"
   ]
  },
  {
   "cell_type": "code",
   "execution_count": 69,
   "metadata": {},
   "outputs": [
    {
     "name": "stdout",
     "output_type": "stream",
     "text": [
      "reshaped tensor([[1.],\n",
      "        [2.],\n",
      "        [3.],\n",
      "        [4.],\n",
      "        [5.],\n",
      "        [6.],\n",
      "        [7.]])\n",
      "squeezed tensor([1., 2., 3., 4., 5., 6., 7.])\n",
      "squeezed shape torch.Size([7])\n"
     ]
    }
   ],
   "source": [
    "x_reshaped_col = tensor.reshape(7,1)\n",
    "# reshaped in row-wise\n",
    "print(f'reshaped',x_reshaped_col)\n",
    "# squeezed removes the dimension 1 if there is the dimension of 1\n",
    "x_squeezed_col_shape = tensor.squeeze()\n",
    "print(f'squeezed', x_squeezed_col_shape)\n",
    "print(f'squeezed shape', x_squeezed_col_shape.shape)\n",
    "\n",
    "# squeezes -> if shape is 1 * n -> n || m * 1 -> m ie remove 1 from the row or column"
   ]
  },
  {
   "cell_type": "code",
   "execution_count": 70,
   "metadata": {},
   "outputs": [
    {
     "name": "stdout",
     "output_type": "stream",
     "text": [
      "squeezed tensor: tensor([9., 2., 3., 4., 5., 6., 7.])\n",
      "squeezed tensor shape: torch.Size([7])\n",
      "\n",
      "unsqueezed tensor: tensor([[9., 2., 3., 4., 5., 6., 7.]])\n",
      "unsqueezed tensor shape: torch.Size([1, 7])\n",
      "\n",
      "unsqueezed tensor: tensor([[[9., 2., 3., 4., 5., 6., 7.]]])\n",
      "unsqueezed tensor shape: torch.Size([1, 1, 7])\n",
      "\n",
      "unsqueezed tensor: tensor([[9.],\n",
      "        [2.],\n",
      "        [3.],\n",
      "        [4.],\n",
      "        [5.],\n",
      "        [6.],\n",
      "        [7.]])\n",
      "unsqueezed tensor shape: torch.Size([7, 1])\n",
      "\n",
      "unsqueezed tensor: tensor([[[9.]],\n",
      "\n",
      "        [[2.]],\n",
      "\n",
      "        [[3.]],\n",
      "\n",
      "        [[4.]],\n",
      "\n",
      "        [[5.]],\n",
      "\n",
      "        [[6.]],\n",
      "\n",
      "        [[7.]]])\n",
      "unsqueezed tensor shape: torch.Size([7, 1, 1])\n",
      "\n"
     ]
    }
   ],
   "source": [
    "print(f'squeezed tensor: {x_squeezed}'+'\\n'+f'squeezed tensor shape: {x_squeezed.shape}\\n')\n",
    "# add exta dimension of 1 at row\n",
    "x_unsqueezed = x_squeezed.unsqueeze(dim = 0)\n",
    "print(f'unsqueezed tensor: {x_unsqueezed}'+'\\n'+f'unsqueezed tensor shape: {x_unsqueezed.shape}\\n')\n",
    "# add exta dimension of 1 at row\n",
    "x_unsqueezed = x_unsqueezed.unsqueeze(dim = 0)\n",
    "print(f'unsqueezed tensor: {x_unsqueezed}'+'\\n'+f'unsqueezed tensor shape: {x_unsqueezed.shape}\\n')\n",
    "# add exta dimension of 1 at column\n",
    "x_unsqueezed = x_squeezed.unsqueeze(dim = 1)\n",
    "print(f'unsqueezed tensor: {x_unsqueezed}'+'\\n'+f'unsqueezed tensor shape: {x_unsqueezed.shape}\\n')\n",
    "# add exta dimension of 1 at column\n",
    "x_unsqueezed = x_unsqueezed.unsqueeze(dim = 1)\n",
    "print(f'unsqueezed tensor: {x_unsqueezed}'+'\\n'+f'unsqueezed tensor shape: {x_unsqueezed.shape}\\n')\n"
   ]
  },
  {
   "cell_type": "code",
   "execution_count": 71,
   "metadata": {},
   "outputs": [
    {
     "name": "stdout",
     "output_type": "stream",
     "text": [
      "original tensor shape: torch.Size([244, 244, 3])\n",
      "premuted tensor shape: torch.Size([3, 244, 244])\n",
      "tensor([[[0.8854, 0.6274, 0.2969,  ..., 0.9348, 0.6648, 0.2730],\n",
      "         [0.2243, 0.6615, 0.9576,  ..., 0.6065, 0.0495, 0.7283],\n",
      "         [0.4460, 0.1840, 0.6964,  ..., 0.3789, 0.5046, 0.4081],\n",
      "         ...,\n",
      "         [0.3661, 0.6640, 0.7257,  ..., 0.8274, 0.8848, 0.7138],\n",
      "         [0.2053, 0.9190, 0.7341,  ..., 0.6263, 0.5069, 0.1175],\n",
      "         [0.4849, 0.3083, 0.6146,  ..., 0.5859, 0.2638, 0.5896]],\n",
      "\n",
      "        [[0.5739, 0.2696, 0.8317,  ..., 0.7992, 0.9746, 0.8497],\n",
      "         [0.8650, 0.2881, 0.1999,  ..., 0.4659, 0.6988, 0.4978],\n",
      "         [0.7700, 0.3880, 0.8365,  ..., 0.2492, 0.9022, 0.5172],\n",
      "         ...,\n",
      "         [0.4588, 0.1238, 0.7433,  ..., 0.5350, 0.3302, 0.1530],\n",
      "         [0.3377, 0.7629, 0.7967,  ..., 0.7456, 0.4610, 0.2594],\n",
      "         [0.6021, 0.2703, 0.2679,  ..., 0.1914, 0.4943, 0.8323]],\n",
      "\n",
      "        [[0.2666, 0.4414, 0.1053,  ..., 0.5783, 0.1774, 0.1579],\n",
      "         [0.6578, 0.4931, 0.5039,  ..., 0.8434, 0.4185, 0.3149],\n",
      "         [0.1527, 0.3186, 0.4465,  ..., 0.6747, 0.6964, 0.6197],\n",
      "         ...,\n",
      "         [0.4897, 0.8447, 0.2719,  ..., 0.4337, 0.0578, 0.7390],\n",
      "         [0.4264, 0.4974, 0.6198,  ..., 0.1596, 0.4546, 0.7966],\n",
      "         [0.9620, 0.5724, 0.8590,  ..., 0.2343, 0.7126, 0.2694]]])\n"
     ]
    }
   ],
   "source": [
    "x_original = torch.rand(size = (244, 244, 3))\n",
    "x_permuted = x_original.permute(2, 0, 1)\n",
    "\n",
    "print(f'original tensor shape: {x_original.shape}')\n",
    "print(f'premuted tensor shape: {x_permuted.shape}')\n",
    "\n",
    "print(x_permuted)"
   ]
  },
  {
   "cell_type": "code",
   "execution_count": 72,
   "metadata": {},
   "outputs": [
    {
     "data": {
      "text/plain": [
       "(tensor([[[ 1,  2,  3],\n",
       "          [ 4,  5,  6],\n",
       "          [ 7,  8,  9]],\n",
       " \n",
       "         [[10, 11, 12],\n",
       "          [13, 14, 15],\n",
       "          [16, 17, 18]]]),\n",
       " torch.Size([2, 3, 3]))"
      ]
     },
     "execution_count": 72,
     "metadata": {},
     "output_type": "execute_result"
    }
   ],
   "source": [
    "x = torch.arange(1, 19).reshape(2, 3, 3)\n",
    "x, x.shape"
   ]
  },
  {
   "cell_type": "code",
   "execution_count": 73,
   "metadata": {},
   "outputs": [
    {
     "name": "stdout",
     "output_type": "stream",
     "text": [
      "x: \n",
      "tensor([[[ 1,  2,  3],\n",
      "         [ 4,  5,  6],\n",
      "         [ 7,  8,  9]],\n",
      "\n",
      "        [[10, 11, 12],\n",
      "         [13, 14, 15],\n",
      "         [16, 17, 18]]])\n",
      "first square bracket: \n",
      "tensor([[1, 2, 3],\n",
      "        [4, 5, 6],\n",
      "        [7, 8, 9]])\n",
      "second square bracket: tensor([1, 2, 3])\n",
      "third square bracket: 1\n"
     ]
    }
   ],
   "source": [
    "print(f'x: \\n{x}')\n",
    "print(f'first square bracket: \\n{x[0]}')\n",
    "print(f'second square bracket: {x[0][0]}')\n",
    "print(f'third square bracket: {x[0][0][0]}')"
   ]
  },
  {
   "cell_type": "code",
   "execution_count": 74,
   "metadata": {},
   "outputs": [
    {
     "data": {
      "text/plain": [
       "tensor([[1, 2, 3],\n",
       "        [4, 5, 6],\n",
       "        [7, 8, 9]])"
      ]
     },
     "execution_count": 74,
     "metadata": {},
     "output_type": "execute_result"
    }
   ],
   "source": [
    "x[0]"
   ]
  },
  {
   "cell_type": "code",
   "execution_count": 75,
   "metadata": {},
   "outputs": [
    {
     "data": {
      "text/plain": [
       "tensor([[ 1,  2,  3],\n",
       "        [10, 11, 12]])"
      ]
     },
     "execution_count": 75,
     "metadata": {},
     "output_type": "execute_result"
    }
   ],
   "source": [
    "x[:, 0]"
   ]
  },
  {
   "cell_type": "code",
   "execution_count": 76,
   "metadata": {},
   "outputs": [
    {
     "data": {
      "text/plain": [
       "tensor([[ 1,  4,  7],\n",
       "        [10, 13, 16]])"
      ]
     },
     "execution_count": 76,
     "metadata": {},
     "output_type": "execute_result"
    }
   ],
   "source": [
    "x[:, :, 0]"
   ]
  },
  {
   "cell_type": "code",
   "execution_count": 77,
   "metadata": {},
   "outputs": [
    {
     "data": {
      "text/plain": [
       "tensor([ 5, 14])"
      ]
     },
     "execution_count": 77,
     "metadata": {},
     "output_type": "execute_result"
    }
   ],
   "source": [
    "x[:, 1, 1]"
   ]
  },
  {
   "cell_type": "code",
   "execution_count": 78,
   "metadata": {},
   "outputs": [
    {
     "data": {
      "text/plain": [
       "tensor([10, 11, 12])"
      ]
     },
     "execution_count": 78,
     "metadata": {},
     "output_type": "execute_result"
    }
   ],
   "source": [
    "x[1, 0, :]"
   ]
  },
  {
   "cell_type": "code",
   "execution_count": 79,
   "metadata": {},
   "outputs": [
    {
     "data": {
      "text/plain": [
       "(tensor([[[1, 2, 3],\n",
       "          [4, 5, 6],\n",
       "          [7, 8, 9]]]),\n",
       " torch.Size([1, 3, 3]))"
      ]
     },
     "execution_count": 79,
     "metadata": {},
     "output_type": "execute_result"
    }
   ],
   "source": [
    "x = torch.arange(1, 10).reshape(1, 3, 3)\n",
    "x, x.shape"
   ]
  },
  {
   "cell_type": "code",
   "execution_count": 80,
   "metadata": {},
   "outputs": [
    {
     "name": "stdout",
     "output_type": "stream",
     "text": [
      "First square bracket:\n",
      "tensor([[1, 2, 3],\n",
      "        [4, 5, 6],\n",
      "        [7, 8, 9]])\n",
      "Second square bracket: tensor([1, 2, 3])\n",
      "Third square bracket: 1\n"
     ]
    }
   ],
   "source": [
    "print(f\"First square bracket:\\n{x[0]}\") \n",
    "print(f\"Second square bracket: {x[0][0]}\") \n",
    "print(f\"Third square bracket: {x[0][0][0]}\")"
   ]
  },
  {
   "cell_type": "code",
   "execution_count": 81,
   "metadata": {},
   "outputs": [
    {
     "data": {
      "text/plain": [
       "tensor([[1, 2, 3]])"
      ]
     },
     "execution_count": 81,
     "metadata": {},
     "output_type": "execute_result"
    }
   ],
   "source": [
    "x[:, 0]"
   ]
  },
  {
   "cell_type": "code",
   "execution_count": 82,
   "metadata": {},
   "outputs": [
    {
     "data": {
      "text/plain": [
       "tensor([[2, 5, 8]])"
      ]
     },
     "execution_count": 82,
     "metadata": {},
     "output_type": "execute_result"
    }
   ],
   "source": [
    "x[:, :, 1]"
   ]
  },
  {
   "cell_type": "code",
   "execution_count": 83,
   "metadata": {},
   "outputs": [
    {
     "data": {
      "text/plain": [
       "tensor([5])"
      ]
     },
     "execution_count": 83,
     "metadata": {},
     "output_type": "execute_result"
    }
   ],
   "source": [
    "x[:, 1, 1]"
   ]
  },
  {
   "cell_type": "code",
   "execution_count": 84,
   "metadata": {},
   "outputs": [
    {
     "data": {
      "text/plain": [
       "tensor([1, 2, 3])"
      ]
     },
     "execution_count": 84,
     "metadata": {},
     "output_type": "execute_result"
    }
   ],
   "source": [
    "x[0, 0, :]"
   ]
  },
  {
   "cell_type": "code",
   "execution_count": 85,
   "metadata": {},
   "outputs": [
    {
     "data": {
      "text/plain": [
       "(array([1., 2., 3., 4., 5., 6., 7.]),\n",
       " tensor([1., 2., 3., 4., 5., 6., 7.], dtype=torch.float64))"
      ]
     },
     "execution_count": 85,
     "metadata": {},
     "output_type": "execute_result"
    }
   ],
   "source": [
    "array = np.arange(1.0, 8.0)\n",
    "tensor = torch.from_numpy(array)\n",
    "array, tensor"
   ]
  },
  {
   "cell_type": "code",
   "execution_count": 86,
   "metadata": {},
   "outputs": [
    {
     "data": {
      "text/plain": [
       "(array([2., 3., 4., 5., 6., 7., 8.]),\n",
       " tensor([1., 2., 3., 4., 5., 6., 7.], dtype=torch.float64))"
      ]
     },
     "execution_count": 86,
     "metadata": {},
     "output_type": "execute_result"
    }
   ],
   "source": [
    "array = array + 1\n",
    "array, tensor"
   ]
  },
  {
   "cell_type": "code",
   "execution_count": 87,
   "metadata": {},
   "outputs": [
    {
     "data": {
      "text/plain": [
       "(array([3., 4., 5., 6., 7., 8., 9.]), tensor([2., 3., 4., 5., 6., 7., 8.]))"
      ]
     },
     "execution_count": 87,
     "metadata": {},
     "output_type": "execute_result"
    }
   ],
   "source": [
    "tensor = torch.from_numpy(array).type(torch.float32)\n",
    "array = array + 1\n",
    "array, tensor"
   ]
  },
  {
   "cell_type": "code",
   "execution_count": 89,
   "metadata": {},
   "outputs": [
    {
     "data": {
      "text/plain": [
       "(tensor([1., 1., 1., 1., 1., 1., 1.]),\n",
       " array([1., 1., 1., 1., 1., 1., 1.], dtype=float32))"
      ]
     },
     "execution_count": 89,
     "metadata": {},
     "output_type": "execute_result"
    }
   ],
   "source": [
    "tensor = torch.ones(7)\n",
    "numpy_tensor = tensor.numpy()\n",
    "tensor, numpy_tensor"
   ]
  },
  {
   "cell_type": "code",
   "execution_count": 90,
   "metadata": {},
   "outputs": [
    {
     "name": "stdout",
     "output_type": "stream",
     "text": [
      "tensor A: \n",
      "tensor([[0.1417, 0.6456, 0.0226, 0.2094],\n",
      "        [0.6321, 0.0960, 0.4926, 0.1548],\n",
      "        [0.2549, 0.8068, 0.2459, 0.4506]])\n",
      "\n",
      "tensor B: \n",
      "tensor([[0.5305, 0.5993, 0.4955, 0.1359],\n",
      "        [0.5243, 0.5060, 0.9585, 0.6795],\n",
      "        [0.3179, 0.4151, 0.6428, 0.2465]])\n",
      "\n",
      "does tensor A equal tensor B? (anywhere)\n"
     ]
    },
    {
     "data": {
      "text/plain": [
       "tensor([[False, False, False, False],\n",
       "        [False, False, False, False],\n",
       "        [False, False, False, False]])"
      ]
     },
     "execution_count": 90,
     "metadata": {},
     "output_type": "execute_result"
    }
   ],
   "source": [
    "random_tensor_A = torch.rand(3, 4)\n",
    "random_tensor_B = torch.rand(3, 4)\n",
    "print(f'tensor A: \\n{random_tensor_A}\\n')\n",
    "print(f'tensor B: \\n{random_tensor_B}\\n')\n",
    "print(f'does tensor A equal tensor B? (anywhere)')\n",
    "random_tensor_A == random_tensor_B"
   ]
  },
  {
   "cell_type": "code",
   "execution_count": null,
   "metadata": {},
   "outputs": [],
   "source": [
    "RANDOM_SEED = 42\n",
    "torch.manual_seed(seed = RANDOM_SEED)\n",
    "random_tensor_C = torch.rand(3, 4)\n",
    "\n",
    "random_tensor_D = torch.rand(3, 4)\n",
    "print(f'tensor C:\\n{random_tensor_C}')\n",
    "print(f'tensor D:\\n{random_tensor_D}')\n",
    "print(f'does tensor C equal tensor D? (anywhere)')\n",
    "\n",
    "random_tensor_C == random_tensor_D"
   ]
  },
  {
   "cell_type": "code",
   "execution_count": 96,
   "metadata": {},
   "outputs": [
    {
     "name": "stdout",
     "output_type": "stream",
     "text": [
      "tensor C:\n",
      "tensor([[0.8823, 0.9150, 0.3829, 0.9593],\n",
      "        [0.3904, 0.6009, 0.2566, 0.7936],\n",
      "        [0.9408, 0.1332, 0.9346, 0.5936]])\n",
      "tensor D:\n",
      "tensor([[0.8823, 0.9150, 0.3829, 0.9593],\n",
      "        [0.3904, 0.6009, 0.2566, 0.7936],\n",
      "        [0.9408, 0.1332, 0.9346, 0.5936]])\n",
      "does tensor C equal tensor D? (anywhere)\n"
     ]
    },
    {
     "data": {
      "text/plain": [
       "tensor([[True, True, True, True],\n",
       "        [True, True, True, True],\n",
       "        [True, True, True, True]])"
      ]
     },
     "execution_count": 96,
     "metadata": {},
     "output_type": "execute_result"
    }
   ],
   "source": [
    "RANDOM_SEED = 42\n",
    "torch.manual_seed(seed = RANDOM_SEED)\n",
    "random_tensor_C = torch.rand(3, 4)\n",
    "\n",
    "\n",
    "# we need to reset the seed everytime \n",
    "#when using the .rand function for generating same randomness for different matrix\n",
    "torch.random.manual_seed(seed = RANDOM_SEED)\n",
    "random_tensor_D = torch.rand(3, 4)\n",
    "print(f'tensor C:\\n{random_tensor_C}')\n",
    "print(f'tensor D:\\n{random_tensor_D}')\n",
    "print(f'does tensor C equal tensor D? (anywhere)')\n",
    "\n",
    "random_tensor_C == random_tensor_D"
   ]
  },
  {
   "cell_type": "code",
   "execution_count": null,
   "metadata": {},
   "outputs": [],
   "source": []
  }
 ],
 "metadata": {
  "colab": {
   "gpuType": "T4",
   "provenance": []
  },
  "kernelspec": {
   "display_name": "Python 3 (ipykernel)",
   "language": "python",
   "name": "python3"
  },
  "language_info": {
   "codemirror_mode": {
    "name": "ipython",
    "version": 3
   },
   "file_extension": ".py",
   "mimetype": "text/x-python",
   "name": "python",
   "nbconvert_exporter": "python",
   "pygments_lexer": "ipython3",
   "version": "3.12.3"
  }
 },
 "nbformat": 4,
 "nbformat_minor": 4
}
